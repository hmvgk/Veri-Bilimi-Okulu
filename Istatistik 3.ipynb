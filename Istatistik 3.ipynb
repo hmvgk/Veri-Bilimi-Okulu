{
 "cells": [
  {
   "cell_type": "markdown",
   "id": "f7e5e12c",
   "metadata": {},
   "source": [
    "**Hipotez Testi**\n",
    "\n",
    "- Bir inanisi(bir savi, bir tahmini vs) test etmek icin kullanilan istatistiksel bir tekniktir."
   ]
  },
  {
   "cell_type": "markdown",
   "id": "41fbdcba",
   "metadata": {},
   "source": [
    "H0 ilk kabul edilen hipotezdir.H1 ise H0' a alternatif bir hipotezdir.\n",
    "\n",
    "- H0: mü=50, H1: mü!=50\n",
    "- H0: mü<=50, H1: mü>50\n",
    "- H0: mü<50, H1: mü>=50"
   ]
  },
  {
   "cell_type": "markdown",
   "id": "02de96d6",
   "metadata": {},
   "source": [
    "\n",
    "                                              Hipotez Testi Sonucu Verilen Karar\n",
    "\n",
    "                               H0 reddedilmedi                     H0 reddedildi\n",
    "\n",
    "           H0 dogru            Dogru Karar                         1. tip hata   \n",
    "                               (1-a) --> Güven Düzeyi              a\n",
    "Gercek \n",
    "\n",
    "           H0 yanlis           2. tip hata                         Dogru Karar  \n",
    "                               b                                   (1-b) --> Testin Gücü  \n",
    "\n",
    "\n",
    "\n",
    "a = alfa, b = beta"
   ]
  },
  {
   "cell_type": "markdown",
   "id": "c8dec6c3",
   "metadata": {},
   "source": [
    "**p-Value**\n",
    "\n",
    "- Eger p < 0.05 oldugu durumunda buna sevinmeliyiz :)\n",
    "\n",
    "- Hipotez testlerinin sonuclarini degerlendirmek üzere programlar tarafindan p-value degeri verilir. Bu deger üzerinden kolayca yorum yapabiliriz.\n",
    "\n",
    "- Eger p < 0.05 ise, ilgili H0 hipotezini reddetmis olacagiz.\n",
    "\n",
    "- Dagilim testlerinde H0 reddedilmek istenilmez. Cünkü H0 \"örnek dagilimi ile teorik dagilim arasinda fark yoktur\" der."
   ]
  },
  {
   "cell_type": "markdown",
   "id": "9d72987f",
   "metadata": {},
   "source": [
    "**Hipotez Testi Adimlari**\n",
    "\n",
    "**Adim1:** Hipotezlerin kurulmasi ve yönlerinin belirlenmesi. Örnegin: H0 : mü = 50, H1: mü !=50\n",
    "\n",
    "**Adim2:** Anlamlilik düzeyinin ve tablo degerinin belirlenmesidir. Burada bahsedien alfa dir.\n",
    " Alfa yi genellikle 0.05 olarak kabul edecegiz. \n",
    " \n",
    " - Dolayisiyla alfa anlamlilik düzeyine karsilik gelen tablo degerinde, eger Z ile calisiyorsak Z tablosundan, T ile calisiyorsak T tablosundan, ki kare ile calisiyorsak ki kare tablosundan bakarak bulmus olacagiz.\n",
    "\n",
    "**Adim3:** Test istatistiginin belirlenmesi ve test istatistiginin hesaplanmasi\n",
    "\n",
    "**Adim4:** Hesaplanan test istatistigi ile alfa'ya karsilik gelen tablo degerinin karsilastirilmasi.\n",
    "\n",
    "- Test istatistigi (Zh) > Tablo Degeri (Zt) ise H0 Red\n",
    "\n",
    "**Adim5:** Yorum\n",
    " "
   ]
  },
  {
   "cell_type": "markdown",
   "id": "92d809ed",
   "metadata": {},
   "source": [
    "**Tek Örneklem T Testi**\n",
    "\n",
    "- Popülasyon ortalamasi ile varsayimsal bir deger arasinda istatistiksel  olarak anlamli bir farklilik olup olmadigini test etmek icin kullanilan parametrik bir testtir.\n",
    "\n",
    "**Tek Örneklem T Testi : Hipotezler**\n",
    "\n",
    "- H0: mü=50, H1: mü!=50\n",
    "- H0: mü<=50, H1: mü>50\n",
    "- H0: mü<50, H1: mü>=50\n",
    "\n",
    "**Tek Örneklem T Testi : Test Istatistigi**\n",
    "\n",
    "- Anakütle standart sapmasi biliniyorsa Z istatistigi kullanilir.\n",
    "- Anakütle standart sapmasi bilinmiyorsa ve n > 30 ise Z istatistigi kullanilir.\n",
    "- Anakütle standart sapmasi bilinmiyor ve n < 30 ise T istatistigi kullanilir.\n",
    "\n",
    "**NOT:** n büyüdükce t, z ye yaklasir.\n",
    "\n",
    "\n",
    "**Tek Örneklem T Testi : Varsayim**\n",
    "\n",
    "- Normal Dagilim\n",
    "\n",
    "\n"
   ]
  },
  {
   "cell_type": "markdown",
   "id": "10b12666",
   "metadata": {},
   "source": [
    "**Is Uygulamasi: Ürün Satin Alma Adim Optimizaysonu**"
   ]
  },
  {
   "cell_type": "markdown",
   "id": "321ea54e",
   "metadata": {},
   "source": [
    "**Problem:** Sepete ürün ekleme islemi sonrasinda ödeme ekraninda 5 adim vardir ve bu adimlarin birisi sorgulanmaktadir.\n",
    "\n",
    "**Detaylar:**\n",
    "- Her adimin 20' ser sn. olmasi hedefi var. 4. adim sorgulaniyor.\n",
    "- Bu durumu test etmek icin 100 örnek aliniyor.\n",
    "- Örnek standart sapmasi 5 saniyedir.Örnek ortalamasi ise 19 saniyedir.\n"
   ]
  },
  {
   "cell_type": "markdown",
   "id": "e8d78b77",
   "metadata": {},
   "source": [
    "**Adim 1:** Hipotezlerin kurulmasi ve yönlerinin belirlenmesi\n",
    "   - H0 : mü = 20 , H1 : mü != 20\n",
    "   \n",
    "**Adim 2:** Anlamlilik düzeyinin ve tablo degerinin belirlenmesi\n",
    "   - alfa = 0.05  alfa / 2 = 0.025\n",
    "   \n",
    "   - Z tablo olasilik degeri: 0.5 - 0.025 = 0.475\n",
    "   - Z tablo kritik deger : -/+1.96\n",
    "\n",
    "**Adim 3:** Test istatistiginin belirlenmesi ve test istatistiginin hesaplanmasi \n",
    "\n",
    "   - n = 100, standart sapma = 5, örnek ortalamasi 19 sn\n",
    "   - Zhesap = -2.00\n",
    "   \n",
    "**Adim 4:** Z tablo ve Z hesap karsilastirmasi Zh > Zt ya da -Zh < -Zt ise H0 Red\n",
    "    \n",
    "   - Zhesap = -2.00 < Ztablo = -1.96 oldugu icin H0 reddedilir. \n",
    "   \n",
    "**Adim 5: Yorum** \n",
    "   - 4. adimda gecirilen sürenin 20 saniye oldugunu iddia eden H0 hipotezi reddedilmistir.\n",
    "   - Buna göre kullanicilar istatistiksel olarak yüzde 95 güvenilirlik ile 4. adimda 20 saniyeden          farkli zaman gecirmektedir."
   ]
  },
  {
   "cell_type": "markdown",
   "id": "93863231",
   "metadata": {},
   "source": [
    "**Is Uygulamasi: Web Sitesinde Gecirilen Sürenin Testi**\n",
    "\n",
    "**Problem:** Web sitemizde gecirilen ortalama süre gercekten 170 saniye mi?\n",
    "\n",
    "**Detaylar:** \n",
    "- Yazilimlardan elde edilen web sitesinde gecirilen ortalama süreler var.\n",
    "- Bu veriler incelendiginde bir yönetici  ya da calisanimiz bu degerlerin böyle olmadigina yönelik düsünceler tasiyor ve bu durumu test etmek istiyorlar.\n",
    "\n"
   ]
  },
  {
   "cell_type": "markdown",
   "id": "a6c251b8",
   "metadata": {},
   "source": [
    "H0 : mü = 170, H1: mü != 170"
   ]
  },
  {
   "cell_type": "code",
   "execution_count": 1,
   "id": "f2a7c29d",
   "metadata": {},
   "outputs": [],
   "source": [
    "import numpy as np \n",
    "\n",
    "olcumler = np.array([17, 160, 234,149,145,107,197,75,201,225,211,119,\n",
    "                     157,145,127,244,163,114,145,65,112,185,202,146,\n",
    "                     203,223,203,114,188,156,187,154,177,95,165,50,110,\n",
    "                     216,138,151,166,135,155,84,251,173,131,207,121,120])"
   ]
  },
  {
   "cell_type": "code",
   "execution_count": 2,
   "id": "cddf90aa",
   "metadata": {},
   "outputs": [],
   "source": [
    "import scipy.stats as stats"
   ]
  },
  {
   "cell_type": "code",
   "execution_count": 3,
   "id": "c9cf4d37",
   "metadata": {},
   "outputs": [
    {
     "data": {
      "text/plain": [
       "DescribeResult(nobs=50, minmax=(17, 251), mean=154.36, variance=2575.214693877551, skewness=-0.3255882888506092, kurtosis=-0.05671626314523737)"
      ]
     },
     "execution_count": 3,
     "metadata": {},
     "output_type": "execute_result"
    }
   ],
   "source": [
    "stats.describe(olcumler)"
   ]
  },
  {
   "cell_type": "markdown",
   "id": "24649dde",
   "metadata": {},
   "source": [
    "# Varsayimlar\n",
    "# Normallik varsayimi\n",
    "\n",
    "- Normallik varsayimi nasil gerceklestirilir? \n",
    "- 1. Grafik Yöntemlerle (Histogram ve qqplot)\n",
    "- 2. Bazi testler ile gerceklestirilebilir.(shapiro wilk test)"
   ]
  },
  {
   "cell_type": "code",
   "execution_count": 7,
   "id": "0004f2c0",
   "metadata": {},
   "outputs": [
    {
     "data": {
      "image/png": "[encoded data removed]",
      "text/plain": [
       "<Figure size 432x288 with 1 Axes>"
      ]
     },
     "metadata": {
      "needs_background": "light"
     },
     "output_type": "display_data"
    }
   ],
   "source": [
    "import pandas as pd\n",
    "\n",
    "#histogram\n",
    "pd.DataFrame(olcumler).plot.hist();"
   ]
  },
  {
   "cell_type": "code",
   "execution_count": 8,
   "id": "76da9f64",
   "metadata": {},
   "outputs": [
    {
     "data": {
      "image/png": "[encoded data removed]",
      "text/plain": [
       "<Figure size 432x288 with 1 Axes>"
      ]
     },
     "metadata": {
      "needs_background": "light"
     },
     "output_type": "display_data"
    }
   ],
   "source": [
    "#qqplot\n",
    "\n",
    "import pylab\n",
    "stats.probplot(olcumler, dist = \"norm\", plot = pylab);"
   ]
  },
  {
   "cell_type": "code",
   "execution_count": 9,
   "id": "dc301b39",
   "metadata": {},
   "outputs": [],
   "source": [
    "# Shapiro-Wilks Testi"
   ]
  },
  {
   "cell_type": "markdown",
   "id": "466f5bc0",
   "metadata": {},
   "source": [
    "- H0: Örnek dagilimi ile teorik normal dagilim arasinda istatistiksel olasilik anlamli bir farklilik yoktur.\n",
    "    \n",
    "- H1 :Örnek dagilimi ile teorik normal dagilim arasinda istatistiksel olasilik anlamli bir farklilik vardir."
   ]
  },
  {
   "cell_type": "code",
   "execution_count": 10,
   "id": "35a09e9a",
   "metadata": {},
   "outputs": [],
   "source": [
    "from scipy.stats import shapiro "
   ]
  },
  {
   "cell_type": "code",
   "execution_count": 11,
   "id": "9ce6da76",
   "metadata": {},
   "outputs": [
    {
     "data": {
      "text/plain": [
       "ShapiroResult(statistic=0.9853345155715942, pvalue=0.785890519618988)"
      ]
     },
     "execution_count": 11,
     "metadata": {},
     "output_type": "execute_result"
    }
   ],
   "source": [
    "shapiro(olcumler)"
   ]
  },
  {
   "cell_type": "code",
   "execution_count": 12,
   "id": "ac4a98b7",
   "metadata": {},
   "outputs": [
    {
     "name": "stdout",
     "output_type": "stream",
     "text": [
      "T Hesap Istatistigi: 0.9853345155715942\n",
      "Hesaplanan P-Value: 0.785890519618988\n"
     ]
    }
   ],
   "source": [
    "print(\"T Hesap Istatistigi: \" + str(shapiro(olcumler)[0]))\n",
    "print(\"Hesaplanan P-Value: \" + str(shapiro(olcumler)[1]))"
   ]
  },
  {
   "cell_type": "code",
   "execution_count": null,
   "id": "d20aa3d4",
   "metadata": {},
   "outputs": [],
   "source": [
    "# Hipotez Testinin Uygulanmasi"
   ]
  },
  {
   "cell_type": "code",
   "execution_count": 13,
   "id": "4c84f7b0",
   "metadata": {},
   "outputs": [
    {
     "data": {
      "text/plain": [
       "Ttest_1sampResult(statistic=-2.1792900200687226, pvalue=0.03414654820751039)"
      ]
     },
     "execution_count": 13,
     "metadata": {},
     "output_type": "execute_result"
    }
   ],
   "source": [
    "stats.ttest_1samp(olcumler, popmean = 170)"
   ]
  },
  {
   "cell_type": "markdown",
   "id": "e58b2254",
   "metadata": {},
   "source": [
    "- H0 : Web sitemizde gecirilen ortalama süre 170' tir.\n",
    "- H1 : Web sitemizde gecirilen ortalama süre 170 degildir."
   ]
  },
  {
   "cell_type": "markdown",
   "id": "ab0fca27",
   "metadata": {},
   "source": [
    "**Yorum:**\n",
    "\n",
    "- p-value < alfa = 0.05 oldugundan H0 hipotezi reddedilir.\n",
    "- Web sitemizde gecirilen ortalama süre 170 degildir. Ortalama 154 elde etmistik.\n",
    "- O zaman sunu söyleyebiliriz. WEb sitemizde gecirilen süre 170 den kücüktür."
   ]
  },
  {
   "cell_type": "markdown",
   "id": "3cb24ec7",
   "metadata": {},
   "source": [
    "**Nonparametrik Tek Örneklem Testi**"
   ]
  },
  {
   "cell_type": "code",
   "execution_count": 14,
   "id": "f2d10e10",
   "metadata": {},
   "outputs": [],
   "source": [
    "from statsmodels.stats.descriptivestats import sign_test"
   ]
  },
  {
   "cell_type": "code",
   "execution_count": 15,
   "id": "5770b87d",
   "metadata": {},
   "outputs": [
    {
     "data": {
      "text/plain": [
       "(-7.0, 0.06490864707227217)"
      ]
     },
     "execution_count": 15,
     "metadata": {},
     "output_type": "execute_result"
    }
   ],
   "source": [
    "sign_test(olcumler, 170)"
   ]
  },
  {
   "cell_type": "markdown",
   "id": "b52fdc68",
   "metadata": {},
   "source": [
    "**Tek Örneklem Oran Testi**\n",
    "\n",
    "- Oransal bir ifade test edilmek istenildiginde kullanilir."
   ]
  },
  {
   "cell_type": "markdown",
   "id": "13140744",
   "metadata": {},
   "source": [
    "**Is Uygulamasi : Dönüsüm Orani Testi**"
   ]
  },
  {
   "cell_type": "markdown",
   "id": "adf285c9",
   "metadata": {},
   "source": [
    "**Problem:** Bir yazilim ile bir mecrada reklam verilmis ve bu reklama iliskin yazilim tarafindan 0.125 dönüsüm orani elde edildigi ifade edilmis. Fakat bu durum kontrol edilmek isteniyor. Cünkü bu yüksek bir oran ve gelirler incelendiginde örtüsmüyor.\n",
    "\n",
    "**Detaylar:** \n",
    "\n",
    "- 500 kisi dis mecrada reklamlara tiklamis, 40 tanesi sitemize gelip alisveris yapmis.\n",
    "- Örnek üzerinden elde edilen dönüsüm orani: 40 / 500 = 0.08"
   ]
  },
  {
   "cell_type": "markdown",
   "id": "ee4a5345",
   "metadata": {},
   "source": [
    "- H0 : P =  0.125\n",
    "- H1 : P != 0.125"
   ]
  },
  {
   "cell_type": "code",
   "execution_count": 16,
   "id": "a0d2593e",
   "metadata": {},
   "outputs": [],
   "source": [
    "from statsmodels.stats.proportion import proportions_ztest"
   ]
  },
  {
   "cell_type": "code",
   "execution_count": 17,
   "id": "924f5301",
   "metadata": {},
   "outputs": [],
   "source": [
    "count = 40\n",
    "nobs = 500\n",
    "value = 0.125"
   ]
  },
  {
   "cell_type": "code",
   "execution_count": 18,
   "id": "561ac13a",
   "metadata": {},
   "outputs": [
    {
     "data": {
      "text/plain": [
       "(-3.7090151628513017, 0.0002080669689845979)"
      ]
     },
     "execution_count": 18,
     "metadata": {},
     "output_type": "execute_result"
    }
   ],
   "source": [
    "proportions_ztest(count, nobs, value)"
   ]
  },
  {
   "cell_type": "markdown",
   "id": "6d3a9b5a",
   "metadata": {},
   "source": [
    "**Yorum:**\n",
    "\n",
    "- p-value = 0.0002080669689845979 < alfa = 0.05 oldugundan dolayi H0 hipotezini reddediyoruz.\n",
    "- Ürün donüsüm oraninin 0.125 degerinin yanlis oldugunu %95 güven ile söyleyebiliriz."
   ]
  },
  {
   "cell_type": "markdown",
   "id": "103b5d76",
   "metadata": {},
   "source": [
    "**Bagimsiz iki Örneklem T Testi (AB Testi)**\n",
    "\n",
    "- Iki grup ortalamasi arasinda karsilastirma yapilmak istenildiginde yapilir.\n",
    "\n",
    "**Hipotezler:**\n",
    "\n",
    "- H0 : mü1 = mü2, H1 : mü1 != mü2\n",
    "- H0 : mü1 <= mü2, H1 : mü1 > mü2\n",
    "- H0 : mü1 >= mü2, H1 : mü1 < mü2\n",
    "\n",
    "**Test Istatistigi:**\n",
    "\n",
    "\n",
    "**Varsayimlar :**\n",
    "\n",
    "- Normallik (histogram, qqplot veya Shapiro-Wilks Testi)\n",
    "- Varyans Homojenligi (Gruplarin varyanslarinin birbirine benzer olmasini ifade ediyor. Eger benzer ise bu testin kullanilmasina izin veriyor.)\n"
   ]
  },
  {
   "cell_type": "markdown",
   "id": "6340bcd9",
   "metadata": {},
   "source": [
    "**Is Uygulamasi: ML Modelinin Basari Testi(AB Testi)**"
   ]
  },
  {
   "cell_type": "markdown",
   "id": "a70a51f8",
   "metadata": {},
   "source": [
    "**Problem:** Bir ML projesine yatirim yapilmis. Ürettigi tahminler neticesinde olusan geliri ile eski sistemin ürettigi gelirler karsilastirilip anlamli farklilik olup olmadigi test edilmek isteniyor.\n",
    "\n",
    "**Detaylar:**\n",
    "\n",
    "- Model gelistirilmis ve web sitesine entegre edilmis.\n",
    "- Site kullanicilari belirli bir kurala göre ikiye bölünmüs olsun.\n",
    "- A grubu eski B grubu yeni sistem.\n",
    "- Gelir anlaminda anlamli bir is yapilip yapilmadigi test edilmek isteniyor."
   ]
  },
  {
   "cell_type": "markdown",
   "id": "56ddd7d1",
   "metadata": {},
   "source": [
    "ML nodeli anlamli farklilik olusturabildi mi ? \n",
    "\n",
    "- H0 : mü1 = mü2\n",
    "- H1 : mü1 != mü2"
   ]
  },
  {
   "cell_type": "code",
   "execution_count": 19,
   "id": "a59d5aa1",
   "metadata": {},
   "outputs": [],
   "source": [
    "# VERI TIPI 1 "
   ]
  },
  {
   "cell_type": "code",
   "execution_count": 20,
   "id": "820c8321",
   "metadata": {},
   "outputs": [
    {
     "data": {
      "text/html": [
       "<div>\n",
       "<style scoped>\n",
       "    .dataframe tbody tr th:only-of-type {\n",
       "        vertical-align: middle;\n",
       "    }\n",
       "\n",
       "    .dataframe tbody tr th {\n",
       "        vertical-align: top;\n",
       "    }\n",
       "\n",
       "    .dataframe thead th {\n",
       "        text-align: right;\n",
       "    }\n",
       "</style>\n",
       "<table border=\"1\" class=\"dataframe\">\n",
       "  <thead>\n",
       "    <tr style=\"text-align: right;\">\n",
       "      <th></th>\n",
       "      <th>A</th>\n",
       "      <th>B</th>\n",
       "    </tr>\n",
       "  </thead>\n",
       "  <tbody>\n",
       "    <tr>\n",
       "      <th>0</th>\n",
       "      <td>30</td>\n",
       "      <td>37</td>\n",
       "    </tr>\n",
       "    <tr>\n",
       "      <th>1</th>\n",
       "      <td>27</td>\n",
       "      <td>39</td>\n",
       "    </tr>\n",
       "    <tr>\n",
       "      <th>2</th>\n",
       "      <td>21</td>\n",
       "      <td>31</td>\n",
       "    </tr>\n",
       "    <tr>\n",
       "      <th>3</th>\n",
       "      <td>27</td>\n",
       "      <td>31</td>\n",
       "    </tr>\n",
       "    <tr>\n",
       "      <th>4</th>\n",
       "      <td>29</td>\n",
       "      <td>34</td>\n",
       "    </tr>\n",
       "  </tbody>\n",
       "</table>\n",
       "</div>"
      ],
      "text/plain": [
       "    A   B\n",
       "0  30  37\n",
       "1  27  39\n",
       "2  21  31\n",
       "3  27  31\n",
       "4  29  34"
      ]
     },
     "execution_count": 20,
     "metadata": {},
     "output_type": "execute_result"
    }
   ],
   "source": [
    "A = pd.DataFrame([30,27,21,27,29,30,20,20,27,32,35,22,24,23,25,27,23,27,23,\n",
    "                 25,21,18,24,26,33,26,27,28,19,25])\n",
    "\n",
    "B = pd.DataFrame([37,39,31,31,34,38,30,36,29,28,38,28,37,37,30,32,31,31,27,\n",
    "                  32,33,33,33,31,32,33,26,32,33,29])\n",
    "\n",
    "A_B = pd.concat([A,B], axis =1)\n",
    "\n",
    "A_B.columns =[\"A\", \"B\"]\n",
    "\n",
    "A_B.head()"
   ]
  },
  {
   "cell_type": "code",
   "execution_count": 21,
   "id": "af166d82",
   "metadata": {},
   "outputs": [],
   "source": [
    "# Veri tipi 2"
   ]
  },
  {
   "cell_type": "code",
   "execution_count": 22,
   "id": "9610b775",
   "metadata": {},
   "outputs": [
    {
     "name": "stdout",
     "output_type": "stream",
     "text": [
      "   gelir GRUP\n",
      "0     30    A\n",
      "1     27    A\n",
      "2     21    A\n",
      "3     27    A\n",
      "4     29    A\n",
      "    gelir GRUP\n",
      "25     33    B\n",
      "26     26    B\n",
      "27     32    B\n",
      "28     33    B\n",
      "29     29    B\n"
     ]
    }
   ],
   "source": [
    "A = pd.DataFrame([30,27,21,27,29,30,20,20,27,32,35,22,24,23,25,27,23,27,23,\n",
    "                 25,21,18,24,26,33,26,27,28,19,25])\n",
    "\n",
    "B = pd.DataFrame([37,39,31,31,34,38,30,36,29,28,38,28,37,37,30,32,31,31,27,\n",
    "                  32,33,33,33,31,32,33,26,32,33,29])\n",
    "\n",
    "# A ve A'nin grubu\n",
    "GRUP_A = np.arange(len(A))\n",
    "GRUP_A = pd.DataFrame(GRUP_A)\n",
    "GRUP_A[:] = \"A\"\n",
    "A = pd.concat([A, GRUP_A], axis =1)\n",
    "\n",
    "# B ve B'nin grubu\n",
    "GRUP_B= np.arange(len(B))\n",
    "GRUP_B = pd.DataFrame(GRUP_B)\n",
    "GRUP_B[:] = \"B\"\n",
    "B = pd.concat([B, GRUP_B], axis =1)\n",
    "\n",
    "# Tüm veri\n",
    "\n",
    "AB = pd.concat([A,B])\n",
    "AB.columns = [\"gelir\",\"GRUP\"]\n",
    "print(AB.head())\n",
    "print(AB.tail())"
   ]
  },
  {
   "cell_type": "code",
   "execution_count": 23,
   "id": "f14ca7aa",
   "metadata": {},
   "outputs": [
    {
     "data": {
      "image/png": "[encoded data removed]",
      "text/plain": [
       "<Figure size 432x288 with 1 Axes>"
      ]
     },
     "metadata": {
      "needs_background": "light"
     },
     "output_type": "display_data"
    }
   ],
   "source": [
    "import seaborn as sns\n",
    "\n",
    "sns.boxplot(x= \"GRUP\", y =\"gelir\", data =AB);"
   ]
  },
  {
   "cell_type": "markdown",
   "id": "51c69793",
   "metadata": {},
   "source": [
    "**Varsayim Kontrolü**"
   ]
  },
  {
   "cell_type": "code",
   "execution_count": 24,
   "id": "2d218616",
   "metadata": {},
   "outputs": [
    {
     "data": {
      "text/html": [
       "<div>\n",
       "<style scoped>\n",
       "    .dataframe tbody tr th:only-of-type {\n",
       "        vertical-align: middle;\n",
       "    }\n",
       "\n",
       "    .dataframe tbody tr th {\n",
       "        vertical-align: top;\n",
       "    }\n",
       "\n",
       "    .dataframe thead th {\n",
       "        text-align: right;\n",
       "    }\n",
       "</style>\n",
       "<table border=\"1\" class=\"dataframe\">\n",
       "  <thead>\n",
       "    <tr style=\"text-align: right;\">\n",
       "      <th></th>\n",
       "      <th>A</th>\n",
       "      <th>B</th>\n",
       "    </tr>\n",
       "  </thead>\n",
       "  <tbody>\n",
       "    <tr>\n",
       "      <th>0</th>\n",
       "      <td>30</td>\n",
       "      <td>37</td>\n",
       "    </tr>\n",
       "    <tr>\n",
       "      <th>1</th>\n",
       "      <td>27</td>\n",
       "      <td>39</td>\n",
       "    </tr>\n",
       "    <tr>\n",
       "      <th>2</th>\n",
       "      <td>21</td>\n",
       "      <td>31</td>\n",
       "    </tr>\n",
       "    <tr>\n",
       "      <th>3</th>\n",
       "      <td>27</td>\n",
       "      <td>31</td>\n",
       "    </tr>\n",
       "    <tr>\n",
       "      <th>4</th>\n",
       "      <td>29</td>\n",
       "      <td>34</td>\n",
       "    </tr>\n",
       "  </tbody>\n",
       "</table>\n",
       "</div>"
      ],
      "text/plain": [
       "    A   B\n",
       "0  30  37\n",
       "1  27  39\n",
       "2  21  31\n",
       "3  27  31\n",
       "4  29  34"
      ]
     },
     "execution_count": 24,
     "metadata": {},
     "output_type": "execute_result"
    }
   ],
   "source": [
    "A_B.head()"
   ]
  },
  {
   "cell_type": "code",
   "execution_count": 25,
   "id": "440650f2",
   "metadata": {},
   "outputs": [
    {
     "data": {
      "text/html": [
       "<div>\n",
       "<style scoped>\n",
       "    .dataframe tbody tr th:only-of-type {\n",
       "        vertical-align: middle;\n",
       "    }\n",
       "\n",
       "    .dataframe tbody tr th {\n",
       "        vertical-align: top;\n",
       "    }\n",
       "\n",
       "    .dataframe thead th {\n",
       "        text-align: right;\n",
       "    }\n",
       "</style>\n",
       "<table border=\"1\" class=\"dataframe\">\n",
       "  <thead>\n",
       "    <tr style=\"text-align: right;\">\n",
       "      <th></th>\n",
       "      <th>gelir</th>\n",
       "      <th>GRUP</th>\n",
       "    </tr>\n",
       "  </thead>\n",
       "  <tbody>\n",
       "    <tr>\n",
       "      <th>0</th>\n",
       "      <td>30</td>\n",
       "      <td>A</td>\n",
       "    </tr>\n",
       "    <tr>\n",
       "      <th>1</th>\n",
       "      <td>27</td>\n",
       "      <td>A</td>\n",
       "    </tr>\n",
       "    <tr>\n",
       "      <th>2</th>\n",
       "      <td>21</td>\n",
       "      <td>A</td>\n",
       "    </tr>\n",
       "    <tr>\n",
       "      <th>3</th>\n",
       "      <td>27</td>\n",
       "      <td>A</td>\n",
       "    </tr>\n",
       "    <tr>\n",
       "      <th>4</th>\n",
       "      <td>29</td>\n",
       "      <td>A</td>\n",
       "    </tr>\n",
       "  </tbody>\n",
       "</table>\n",
       "</div>"
      ],
      "text/plain": [
       "   gelir GRUP\n",
       "0     30    A\n",
       "1     27    A\n",
       "2     21    A\n",
       "3     27    A\n",
       "4     29    A"
      ]
     },
     "execution_count": 25,
     "metadata": {},
     "output_type": "execute_result"
    }
   ],
   "source": [
    "AB.head()"
   ]
  },
  {
   "cell_type": "code",
   "execution_count": 26,
   "id": "25dfe969",
   "metadata": {},
   "outputs": [],
   "source": [
    "#normallik varsayimi"
   ]
  },
  {
   "cell_type": "code",
   "execution_count": 27,
   "id": "a9e1931d",
   "metadata": {},
   "outputs": [],
   "source": [
    "from scipy.stats import shapiro"
   ]
  },
  {
   "cell_type": "code",
   "execution_count": 28,
   "id": "be465754",
   "metadata": {},
   "outputs": [
    {
     "data": {
      "text/plain": [
       "ShapiroResult(statistic=0.9789242148399353, pvalue=0.7962799668312073)"
      ]
     },
     "execution_count": 28,
     "metadata": {},
     "output_type": "execute_result"
    }
   ],
   "source": [
    "shapiro(A_B.A)"
   ]
  },
  {
   "cell_type": "code",
   "execution_count": 29,
   "id": "3a6a94a4",
   "metadata": {},
   "outputs": [
    {
     "data": {
      "text/plain": [
       "ShapiroResult(statistic=0.9561260342597961, pvalue=0.24584221839904785)"
      ]
     },
     "execution_count": 29,
     "metadata": {},
     "output_type": "execute_result"
    }
   ],
   "source": [
    "shapiro(A_B.B)"
   ]
  },
  {
   "cell_type": "code",
   "execution_count": 30,
   "id": "524d7727",
   "metadata": {},
   "outputs": [],
   "source": [
    "#varyans homojenligi varsayimi"
   ]
  },
  {
   "cell_type": "markdown",
   "id": "929a1e3c",
   "metadata": {},
   "source": [
    "- H0 : Varyanslar homojendir.\n",
    "- H1 : Varyanslar homojen degildir."
   ]
  },
  {
   "cell_type": "code",
   "execution_count": 31,
   "id": "41c3b30b",
   "metadata": {},
   "outputs": [
    {
     "data": {
      "text/plain": [
       "LeveneResult(statistic=1.1101802757158004, pvalue=0.2964124900636569)"
      ]
     },
     "execution_count": 31,
     "metadata": {},
     "output_type": "execute_result"
    }
   ],
   "source": [
    "stats.levene(A_B.A, A_B.B)"
   ]
  },
  {
   "cell_type": "markdown",
   "id": "cc5a368f",
   "metadata": {},
   "source": [
    "- pvalue=0.2964124900636569 > alfa = 0.05 oldugundan H0 reddedilemez.Yani H0 dogru kabul edilip, Varyanslar homojendir diyebilirliz.\n"
   ]
  },
  {
   "cell_type": "markdown",
   "id": "59f0a41d",
   "metadata": {},
   "source": [
    "**Hipotez Testi**"
   ]
  },
  {
   "cell_type": "code",
   "execution_count": 32,
   "id": "5a209c8f",
   "metadata": {},
   "outputs": [
    {
     "data": {
      "text/plain": [
       "Ttest_indResult(statistic=-7.028690967745927, pvalue=2.6233215605475075e-09)"
      ]
     },
     "execution_count": 32,
     "metadata": {},
     "output_type": "execute_result"
    }
   ],
   "source": [
    "stats.ttest_ind(A_B[\"A\"], A_B[\"B\"], equal_var =True)"
   ]
  },
  {
   "cell_type": "code",
   "execution_count": 33,
   "id": "3d7738c0",
   "metadata": {},
   "outputs": [
    {
     "name": "stdout",
     "output_type": "stream",
     "text": [
      "Test istatistigi = -7.0287, p-degeri = 0.0000\n"
     ]
    }
   ],
   "source": [
    "test_istatistigi, pvalue = stats.ttest_ind(A_B[\"A\"], A_B[\"B\"], equal_var =True)\n",
    "print('Test istatistigi = %.4f, p-degeri = %.4f' % (test_istatistigi, pvalue))"
   ]
  },
  {
   "cell_type": "markdown",
   "id": "788a8b64",
   "metadata": {},
   "source": [
    "- Simdi hipotezlermizi hatirlayalim. H0 : mü1 = mü2, H1 : mü1 != mü2 (mü1 : eski sistem, mü2 : yeni sistem)\n",
    "- Eski sistem; kullanicilarin bir ürün önersi almadan ürünlerle karsilasmasini ifade ediyordu.\n",
    "- Yeni sistem; kullanicilarin gelistirilmis olan bir Makine ögrenmesi algoritmasinin tahminlerine göre ürünlerle karsilastirilmasini ifade ediyordu.\n",
    "\n",
    "- H0 hipotezi bu iki degerin birbirine esit oldugunu iddia etti.\n",
    "- Ancak pvalue < alfa oldugundan H0 hipotezini reddettik.\n",
    "- Dolayisiyla eski sistem ile yeni sistem arasinda gelirler göz önünde bulunduruldugunda istatistiki olarak anlamli bir farklilik vardir, ve bu fark yeni sistemin lehinedir."
   ]
  },
  {
   "cell_type": "markdown",
   "id": "2bc95eda",
   "metadata": {},
   "source": [
    "**Nonparametrik Bagimsiz Iki Örneklem T Testi**"
   ]
  },
  {
   "cell_type": "markdown",
   "id": "79131d3e",
   "metadata": {},
   "source": [
    "Diyelim ki hem normallik ve hem de varyans homojenlik testi saglanmiyor.Saglanmadiginda kullanilmasi gereken nonparametrik testin ismi 'mannwhitneyu' testidir."
   ]
  },
  {
   "cell_type": "code",
   "execution_count": 34,
   "id": "3d7c5f7a",
   "metadata": {},
   "outputs": [
    {
     "data": {
      "text/plain": [
       "MannwhitneyuResult(statistic=89.5, pvalue=9.557950378612535e-08)"
      ]
     },
     "execution_count": 34,
     "metadata": {},
     "output_type": "execute_result"
    }
   ],
   "source": [
    "stats.mannwhitneyu(A_B[\"A\"], A_B[\"B\"])"
   ]
  },
  {
   "cell_type": "code",
   "execution_count": 36,
   "id": "39921296",
   "metadata": {},
   "outputs": [
    {
     "name": "stdout",
     "output_type": "stream",
     "text": [
      "Test istatistigi = 89.5000, p-degeri = 0.0000\n"
     ]
    }
   ],
   "source": [
    "test_istatistigi, pvalue = stats.mannwhitneyu(A_B[\"A\"], A_B[\"B\"])\n",
    "print('Test istatistigi = %.4f, p-degeri = %.4f' % (test_istatistigi, pvalue))"
   ]
  },
  {
   "cell_type": "markdown",
   "id": "9edb0b24",
   "metadata": {},
   "source": [
    "Buradaki senaryomuzda hem parametrik hem de nonparametrik yaklasimda iki örneklem testinde anlamli sonuclara yani fark vardir sonucuna ulastik."
   ]
  },
  {
   "cell_type": "markdown",
   "id": "600cbeb0",
   "metadata": {},
   "source": [
    "**Bagimli iki Örneklem T Testi**"
   ]
  },
  {
   "cell_type": "code",
   "execution_count": null,
   "id": "85eb1abd",
   "metadata": {},
   "outputs": [],
   "source": []
  },
  {
   "cell_type": "code",
   "execution_count": null,
   "id": "9abd0ad9",
   "metadata": {},
   "outputs": [],
   "source": []
  },
  {
   "cell_type": "code",
   "execution_count": null,
   "id": "2e98c20a",
   "metadata": {},
   "outputs": [],
   "source": []
  },
  {
   "cell_type": "code",
   "execution_count": null,
   "id": "a401bfe3",
   "metadata": {},
   "outputs": [],
   "source": []
  },
  {
   "cell_type": "code",
   "execution_count": null,
   "id": "3d8926bb",
   "metadata": {},
   "outputs": [],
   "source": []
  },
  {
   "cell_type": "code",
   "execution_count": null,
   "id": "739a851b",
   "metadata": {},
   "outputs": [],
   "source": []
  },
  {
   "cell_type": "markdown",
   "id": "3a26f256",
   "metadata": {},
   "source": []
  },
  {
   "cell_type": "code",
   "execution_count": null,
   "id": "bfad4992",
   "metadata": {},
   "outputs": [],
   "source": []
  }
 ],
 "metadata": {
  "kernelspec": {
   "display_name": "Python 3 (ipykernel)",
   "language": "python",
   "name": "python3"
  },
  "language_info": {
   "codemirror_mode": {
    "name": "ipython",
    "version": 3
   },
   "file_extension": ".py",
   "mimetype": "text/x-python",
   "name": "python",
   "nbconvert_exporter": "python",
   "pygments_lexer": "ipython3",
   "version": "3.9.7"
  }
 },
 "nbformat": 4,
 "nbformat_minor": 5
}
