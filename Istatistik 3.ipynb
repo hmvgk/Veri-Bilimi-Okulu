{
 "cells": [
  {
   "cell_type": "markdown",
   "id": "f7e5e12c",
   "metadata": {},
   "source": [
    "**Hipotez Testi**\n",
    "\n",
    "- Bir inanisi(bir savi, bir tahmini vs) test etmek icin kullanilan istatistiksel bir tekniktir."
   ]
  },
  {
   "cell_type": "markdown",
   "id": "41fbdcba",
   "metadata": {},
   "source": [
    "H0 ilk kabul edilen hipotezdir.H1 ise H0' a alternatif bir hipotezdir.\n",
    "\n",
    "- H0: mü=50, H1: mü!=50\n",
    "- H0: mü<=50, H1: mü>50\n",
    "- H0: mü<50, H1: mü>=50"
   ]
  },
  {
   "cell_type": "markdown",
   "id": "02de96d6",
   "metadata": {},
   "source": [
    "\n",
    "                                              Hipotez Testi Sonucu Verilen Karar\n",
    "\n",
    "                               H0 reddedilmedi                     H0 reddedildi\n",
    "\n",
    "           H0 dogru            Dogru Karar                         1. tip hata   \n",
    "                               (1-a) --> Güven Düzeyi              a\n",
    "Gercek \n",
    "\n",
    "           H0 yanlis           2. tip hata                         Dogru Karar  \n",
    "                               b                                   (1-b) --> Testin Gücü  \n",
    "\n",
    "\n",
    "\n",
    "a = alfa, b = beta"
   ]
  },
  {
   "cell_type": "markdown",
   "id": "c8dec6c3",
   "metadata": {},
   "source": [
    "**p-Value**\n",
    "\n",
    "- Eger p < 0.05 oldugu durumunda buna sevinmeliyiz :)\n",
    "\n",
    "- Hipotez testlerinin sonuclarini degerlendirmek üzere programlar tarafindan p-value degeri verilir. Bu deger üzerinden kolayca yorum yapabiliriz.\n",
    "\n",
    "- Eger p < 0.05 ise, ilgili H0 hipotezini reddetmis olacagiz.\n",
    "\n",
    "- Dagilim testlerinde H0 reddedilmek istenilmez. Cünkü H0 \"örnek dagilimi ile teorik dagilim arasinda fark yoktur\" der."
   ]
  },
  {
   "cell_type": "markdown",
   "id": "9d72987f",
   "metadata": {},
   "source": [
    "**Hipotez Testi Adimlari**\n",
    "\n",
    "**Adim1:** Hipotezlerin kurulmasi ve yönlerinin belirlenmesi. Örnegin: H0 : mü = 50, H1: mü !=50\n",
    "\n",
    "**Adim2:** Anlamlilik düzeyinin ve tablo degerinin belirlenmesidir. Burada bahsedien alfa dir.\n",
    " Alfa yi genellikle 0.05 olarak kabul edecegiz. \n",
    " \n",
    " - Dolayisiyla alfa anlamlilik düzeyine karsilik gelen tablo degerinde, eger Z ile calisiyorsak Z tablosundan, T ile calisiyorsak T tablosundan, ki kare ile calisiyorsak ki kare tablosundan bakarak bulmus olacagiz.\n",
    "\n",
    "**Adim3:** Test istatistiginin belirlenmesi ve test istatistiginin hesaplanmasi\n",
    "\n",
    "**Adim4:** Hesaplanan test istatistigi ile alfa'ya karsilik gelen tablo degerinin karsilastirilmasi.\n",
    "\n",
    "- Test istatistigi (Zh) > Tablo Degeri (Zt) ise H0 Red\n",
    "\n",
    "**Adim5:** Yorum\n",
    " "
   ]
  },
  {
   "cell_type": "markdown",
   "id": "92d809ed",
   "metadata": {},
   "source": [
    "**Tek Örneklem T Testi**\n",
    "\n",
    "- Popülasyon ortalamasi ile varsayimsal bir deger arasinda istatistiksel  olarak anlamli bir farklilik olup olmadigini test etmek icin kullanilan parametrik bir testtir.\n",
    "\n",
    "**Tek Örneklem T Testi : Hipotezler**\n",
    "\n",
    "- H0: mü=50, H1: mü!=50\n",
    "- H0: mü<=50, H1: mü>50\n",
    "- H0: mü<50, H1: mü>=50\n",
    "\n",
    "**Tek Örneklem T Testi : Test Istatistigi**\n",
    "\n",
    "- Anakütle standart sapmasi biliniyorsa Z istatistigi kullanilir.\n",
    "- Anakütle standart sapmasi bilinmiyorsa ve n > 30 ise Z istatistigi kullanilir.\n",
    "- Anakütle standart sapmasi bilinmiyor ve n < 30 ise T istatistigi kullanilir.\n",
    "\n",
    "**NOT:** n büyüdükce t, z ye yaklasir.\n",
    "\n",
    "\n",
    "**Tek Örneklem T Testi : Varsayim**\n",
    "\n",
    "- Normal Dagilim\n",
    "\n",
    "\n"
   ]
  },
  {
   "cell_type": "markdown",
   "id": "10b12666",
   "metadata": {},
   "source": [
    "**Is Uygulamasi: Ürün Satin Alma Adim Optimizaysonu**"
   ]
  },
  {
   "cell_type": "markdown",
   "id": "321ea54e",
   "metadata": {},
   "source": [
    "**Problem:** Sepete ürün ekleme islemi sonrasinda ödeme ekraninda 5 adim vardir ve bu adimlarin birisi sorgulanmaktadir.\n",
    "\n",
    "**Detaylar:**\n",
    "- Her adimin 20' ser sn. olmasi hedefi var. 4. adim sorgulaniyor.\n",
    "- Bu durumu test etmek icin 100 örnek aliniyor.\n",
    "- Örnek standart sapmasi 5 saniyedir.Örnek ortalamasi ise 19 saniyedir.\n"
   ]
  },
  {
   "cell_type": "markdown",
   "id": "e8d78b77",
   "metadata": {},
   "source": [
    "**Adim 1:** Hipotezlerin kurulmasi ve yönlerinin belirlenmesi\n",
    "   - H0 : mü = 20 , H1 : mü != 20\n",
    "   \n",
    "**Adim 2:** Anlamlilik düzeyinin ve tablo degerinin belirlenmesi\n",
    "   - alfa = 0.05  alfa / 2 = 0.025\n",
    "   \n",
    "   - Z tablo olasilik degeri: 0.5 - 0.025 = 0.475\n",
    "   - Z tablo kritik deger : -/+1.96\n",
    "\n",
    "**Adim 3:** Test istatistiginin belirlenmesi ve test istatistiginin hesaplanmasi \n",
    "\n",
    "   - n = 100, standart sapma = 5, örnek ortalamasi 19 sn\n",
    "   - Zhesap = -2.00\n",
    "   \n",
    "**Adim 4:** Z tablo ve Z hesap karsilastirmasi Zh > Zt ya da -Zh < -Zt ise H0 Red\n",
    "    \n",
    "   - Zhesap = -2.00 < Ztablo = -1.96 oldugu icin H0 reddedilir. \n",
    "   \n",
    "**Adim 5: Yorum** \n",
    "   - 4. adimda gecirilen sürenin 20 saniye oldugunu iddia eden H0 hipotezi reddedilmistir.\n",
    "   - Buna göre kullanicilar istatistiksel olarak yüzde 95 güvenilirlik ile 4. adimda 20 saniyeden          farkli zaman gecirmektedir."
   ]
  },
  {
   "cell_type": "markdown",
   "id": "93863231",
   "metadata": {},
   "source": [
    "**Is Uygulamasi: Web Sitesinde Gecirilen Sürenin Testi**\n",
    "\n",
    "**Problem:** Web sitemizde gecirilen ortalama süre gercekten 170 saniye mi?\n",
    "\n",
    "**Detaylar:** \n",
    "- Yazilimlardan elde edilen web sitesinde gecirilen ortalama süreler var.\n",
    "- Bu veriler incelendiginde bir yönetici  ya da calisanimiz bu degerlerin böyle olmadigina yönelik düsünceler tasiyor ve bu durumu test etmek istiyorlar.\n",
    "\n"
   ]
  },
  {
   "cell_type": "markdown",
   "id": "a6c251b8",
   "metadata": {},
   "source": [
    "H0 : mü = 170, H1: mü != 170"
   ]
  },
  {
   "cell_type": "code",
   "execution_count": 1,
   "id": "f2a7c29d",
   "metadata": {},
   "outputs": [],
   "source": [
    "import numpy as np \n",
    "\n",
    "olcumler = np.array([17, 160, 234,149,145,107,197,75,201,225,211,119,\n",
    "                     157,145,127,244,163,114,145,65,112,185,202,146,\n",
    "                     203,223,203,114,188,156,187,154,177,95,165,50,110,\n",
    "                     216,138,151,166,135,155,84,251,173,131,207,121,120])"
   ]
  },
  {
   "cell_type": "code",
   "execution_count": 2,
   "id": "cddf90aa",
   "metadata": {},
   "outputs": [],
   "source": [
    "import scipy.stats as stats"
   ]
  },
  {
   "cell_type": "code",
   "execution_count": 3,
   "id": "c9cf4d37",
   "metadata": {},
   "outputs": [
    {
     "data": {
      "text/plain": [
       "DescribeResult(nobs=50, minmax=(17, 251), mean=154.36, variance=2575.214693877551, skewness=-0.3255882888506092, kurtosis=-0.05671626314523737)"
      ]
     },
     "execution_count": 3,
     "metadata": {},
     "output_type": "execute_result"
    }
   ],
   "source": [
    "stats.describe(olcumler)"
   ]
  },
  {
   "cell_type": "markdown",
   "id": "24649dde",
   "metadata": {},
   "source": [
    "# Varsayimlar\n",
    "# Normallik varsayimi\n",
    "\n",
    "- Normallik varsayimi nasil gerceklestirilir? \n",
    "- 1. Grafik Yöntemlerle (Histogram ve qqplot)\n",
    "- 2. Bazi testler ile gerceklestirilebilir.(shapiro wilk test)"
   ]
  },
  {
   "cell_type": "code",
   "execution_count": 7,
   "id": "0004f2c0",
   "metadata": {},
   "outputs": [
    {
     "data": {
      "image/png": "[encoded data removed]",
      "text/plain": [
       "<Figure size 432x288 with 1 Axes>"
      ]
     },
     "metadata": {
      "needs_background": "light"
     },
     "output_type": "display_data"
    }
   ],
   "source": [
    "import pandas as pd\n",
    "\n",
    "#histogram\n",
    "pd.DataFrame(olcumler).plot.hist();"
   ]
  },
  {
   "cell_type": "code",
   "execution_count": 8,
   "id": "76da9f64",
   "metadata": {},
   "outputs": [
    {
     "data": {
      "image/png": "[encoded data removed]",
      "text/plain": [
       "<Figure size 432x288 with 1 Axes>"
      ]
     },
     "metadata": {
      "needs_background": "light"
     },
     "output_type": "display_data"
    }
   ],
   "source": [
    "#qqplot\n",
    "\n",
    "import pylab\n",
    "stats.probplot(olcumler, dist = \"norm\", plot = pylab);"
   ]
  },
  {
   "cell_type": "code",
   "execution_count": 9,
   "id": "dc301b39",
   "metadata": {},
   "outputs": [],
   "source": [
    "# Shapiro-Wilks Testi"
   ]
  },
  {
   "cell_type": "markdown",
   "id": "466f5bc0",
   "metadata": {},
   "source": [
    "- H0: Örnek dagilimi ile teorik normal dagilim arasinda istatistiksel olasilik anlamli bir farklilik yoktur.\n",
    "    \n",
    "- H1 :Örnek dagilimi ile teorik normal dagilim arasinda istatistiksel olasilik anlamli bir farklilik vardir."
   ]
  },
  {
   "cell_type": "code",
   "execution_count": 10,
   "id": "35a09e9a",
   "metadata": {},
   "outputs": [],
   "source": [
    "from scipy.stats import shapiro "
   ]
  },
  {
   "cell_type": "code",
   "execution_count": 11,
   "id": "9ce6da76",
   "metadata": {},
   "outputs": [
    {
     "data": {
      "text/plain": [
       "ShapiroResult(statistic=0.9853345155715942, pvalue=0.785890519618988)"
      ]
     },
     "execution_count": 11,
     "metadata": {},
     "output_type": "execute_result"
    }
   ],
   "source": [
    "shapiro(olcumler)"
   ]
  },
  {
   "cell_type": "code",
   "execution_count": 12,
   "id": "ac4a98b7",
   "metadata": {},
   "outputs": [
    {
     "name": "stdout",
     "output_type": "stream",
     "text": [
      "T Hesap Istatistigi: 0.9853345155715942\n",
      "Hesaplanan P-Value: 0.785890519618988\n"
     ]
    }
   ],
   "source": [
    "print(\"T Hesap Istatistigi: \" + str(shapiro(olcumler)[0]))\n",
    "print(\"Hesaplanan P-Value: \" + str(shapiro(olcumler)[1]))"
   ]
  },
  {
   "cell_type": "code",
   "execution_count": null,
   "id": "d20aa3d4",
   "metadata": {},
   "outputs": [],
   "source": [
    "# Hipotez Testinin Uygulanmasi"
   ]
  },
  {
   "cell_type": "code",
   "execution_count": 13,
   "id": "4c84f7b0",
   "metadata": {},
   "outputs": [
    {
     "data": {
      "text/plain": [
       "Ttest_1sampResult(statistic=-2.1792900200687226, pvalue=0.03414654820751039)"
      ]
     },
     "execution_count": 13,
     "metadata": {},
     "output_type": "execute_result"
    }
   ],
   "source": [
    "stats.ttest_1samp(olcumler, popmean = 170)"
   ]
  },
  {
   "cell_type": "markdown",
   "id": "e58b2254",
   "metadata": {},
   "source": [
    "- H0 : Web sitemizde gecirilen ortalama süre 170' tir.\n",
    "- H1 : Web sitemizde gecirilen ortalama süre 170 degildir."
   ]
  },
  {
   "cell_type": "markdown",
   "id": "ab0fca27",
   "metadata": {},
   "source": [
    "**Yorum:**\n",
    "\n",
    "- p-value < alfa = 0.05 oldugundan H0 hipotezi reddedilir.\n",
    "- Web sitemizde gecirilen ortalama süre 170 degildir. Ortalama 154 elde etmistik.\n",
    "- O zaman sunu söyleyebiliriz. WEb sitemizde gecirilen süre 170 den kücüktür."
   ]
  },
  {
   "cell_type": "markdown",
   "id": "3cb24ec7",
   "metadata": {},
   "source": [
    "**Nonparametrik Tek Örneklem Testi**"
   ]
  },
  {
   "cell_type": "code",
   "execution_count": 14,
   "id": "f2d10e10",
   "metadata": {},
   "outputs": [],
   "source": [
    "from statsmodels.stats.descriptivestats import sign_test"
   ]
  },
  {
   "cell_type": "code",
   "execution_count": 15,
   "id": "5770b87d",
   "metadata": {},
   "outputs": [
    {
     "data": {
      "text/plain": [
       "(-7.0, 0.06490864707227217)"
      ]
     },
     "execution_count": 15,
     "metadata": {},
     "output_type": "execute_result"
    }
   ],
   "source": [
    "sign_test(olcumler, 170)"
   ]
  },
  {
   "cell_type": "markdown",
   "id": "b52fdc68",
   "metadata": {},
   "source": [
    "**Tek Örneklem Oran Testi**\n",
    "\n",
    "- Oransal bir ifade test edilmek istenildiginde kullanilir."
   ]
  },
  {
   "cell_type": "markdown",
   "id": "13140744",
   "metadata": {},
   "source": [
    "**Is Uygulamasi : Dönüsüm Orani Testi**"
   ]
  },
  {
   "cell_type": "markdown",
   "id": "adf285c9",
   "metadata": {},
   "source": [
    "**Problem:** Bir yazilim ile bir mecrada reklam verilmis ve bu reklama iliskin yazilim tarafindan 0.125 dönüsüm orani elde edildigi ifade edilmis. Fakat bu durum kontrol edilmek isteniyor. Cünkü bu yüksek bir oran ve gelirler incelendiginde örtüsmüyor.\n",
    "\n",
    "**Detaylar:** \n",
    "\n",
    "- 500 kisi dis mecrada reklamlara tiklamis, 40 tanesi sitemize gelip alisveris yapmis.\n",
    "- Örnek üzerinden elde edilen dönüsüm orani: 40 / 500 = 0.08"
   ]
  },
  {
   "cell_type": "markdown",
   "id": "ee4a5345",
   "metadata": {},
   "source": [
    "- H0 : P =  0.125\n",
    "- H1 : P != 0.125"
   ]
  },
  {
   "cell_type": "code",
   "execution_count": 16,
   "id": "a0d2593e",
   "metadata": {},
   "outputs": [],
   "source": [
    "from statsmodels.stats.proportion import proportions_ztest"
   ]
  },
  {
   "cell_type": "code",
   "execution_count": 17,
   "id": "924f5301",
   "metadata": {},
   "outputs": [],
   "source": [
    "count = 40\n",
    "nobs = 500\n",
    "value = 0.125"
   ]
  },
  {
   "cell_type": "code",
   "execution_count": 18,
   "id": "561ac13a",
   "metadata": {},
   "outputs": [
    {
     "data": {
      "text/plain": [
       "(-3.7090151628513017, 0.0002080669689845979)"
      ]
     },
     "execution_count": 18,
     "metadata": {},
     "output_type": "execute_result"
    }
   ],
   "source": [
    "proportions_ztest(count, nobs, value)"
   ]
  },
  {
   "cell_type": "markdown",
   "id": "6d3a9b5a",
   "metadata": {},
   "source": [
    "**Yorum:**\n",
    "\n",
    "- p-value = 0.0002080669689845979 < alfa = 0.05 oldugundan dolayi H0 hipotezini reddediyoruz.\n",
    "- Ürün donüsüm oraninin 0.125 degerinin yanlis oldugunu %95 güven ile söyleyebiliriz."
   ]
  },
  {
   "cell_type": "markdown",
   "id": "103b5d76",
   "metadata": {},
   "source": [
    "**Bagimsiz iki Örneklem T Testi (AB Testi)**\n",
    "\n",
    "- Iki grup ortalamasi arasinda karsilastirma yapilmak istenildiginde yapilir.\n",
    "\n",
    "**Hipotezler:**\n",
    "\n",
    "- H0 : mü1 = mü2, H1 : mü1 != mü2\n",
    "- H0 : mü1 <= mü2, H1 : mü1 > mü2\n",
    "- H0 : mü1 >= mü2, H1 : mü1 < mü2\n",
    "\n",
    "**Test Istatistigi:**\n",
    "\n",
    "\n",
    "**Varsayimlar :**\n",
    "\n",
    "- Normallik (histogram, qqplot veya Shapiro-Wilks Testi)\n",
    "- Varyans Homojenligi (Gruplarin varyanslarinin birbirine benzer olmasini ifade ediyor. Eger benzer ise bu testin kullanilmasina izin veriyor.)\n"
   ]
  },
  {
   "cell_type": "markdown",
   "id": "6340bcd9",
   "metadata": {},
   "source": [
    "**Is Uygulamasi: ML Modelinin Basari Testi(AB Testi)**"
   ]
  },
  {
   "cell_type": "markdown",
   "id": "a70a51f8",
   "metadata": {},
   "source": [
    "**Problem:** Bir ML projesine yatirim yapilmis. Ürettigi tahminler neticesinde olusan geliri ile eski sistemin ürettigi gelirler karsilastirilip anlamli farklilik olup olmadigi test edilmek isteniyor.\n",
    "\n",
    "**Detaylar:**\n",
    "\n",
    "- Model gelistirilmis ve web sitesine entegre edilmis.\n",
    "- Site kullanicilari belirli bir kurala göre ikiye bölünmüs olsun.\n",
    "- A grubu eski B grubu yeni sistem.\n",
    "- Gelir anlaminda anlamli bir is yapilip yapilmadigi test edilmek isteniyor."
   ]
  },
  {
   "cell_type": "markdown",
   "id": "56ddd7d1",
   "metadata": {},
   "source": [
    "ML nodeli anlamli farklilik olusturabildi mi ? \n",
    "\n",
    "- H0 : mü1 = mü2\n",
    "- H1 : mü1 != mü2"
   ]
  },
  {
   "cell_type": "code",
   "execution_count": 19,
   "id": "a59d5aa1",
   "metadata": {},
   "outputs": [],
   "source": [
    "# VERI TIPI 1 "
   ]
  },
  {
   "cell_type": "code",
   "execution_count": 20,
   "id": "820c8321",
   "metadata": {},
   "outputs": [
    {
     "data": {
      "text/html": [
       "<div>\n",
       "<style scoped>\n",
       "    .dataframe tbody tr th:only-of-type {\n",
       "        vertical-align: middle;\n",
       "    }\n",
       "\n",
       "    .dataframe tbody tr th {\n",
       "        vertical-align: top;\n",
       "    }\n",
       "\n",
       "    .dataframe thead th {\n",
       "        text-align: right;\n",
       "    }\n",
       "</style>\n",
       "<table border=\"1\" class=\"dataframe\">\n",
       "  <thead>\n",
       "    <tr style=\"text-align: right;\">\n",
       "      <th></th>\n",
       "      <th>A</th>\n",
       "      <th>B</th>\n",
       "    </tr>\n",
       "  </thead>\n",
       "  <tbody>\n",
       "    <tr>\n",
       "      <th>0</th>\n",
       "      <td>30</td>\n",
       "      <td>37</td>\n",
       "    </tr>\n",
       "    <tr>\n",
       "      <th>1</th>\n",
       "      <td>27</td>\n",
       "      <td>39</td>\n",
       "    </tr>\n",
       "    <tr>\n",
       "      <th>2</th>\n",
       "      <td>21</td>\n",
       "      <td>31</td>\n",
       "    </tr>\n",
       "    <tr>\n",
       "      <th>3</th>\n",
       "      <td>27</td>\n",
       "      <td>31</td>\n",
       "    </tr>\n",
       "    <tr>\n",
       "      <th>4</th>\n",
       "      <td>29</td>\n",
       "      <td>34</td>\n",
       "    </tr>\n",
       "  </tbody>\n",
       "</table>\n",
       "</div>"
      ],
      "text/plain": [
       "    A   B\n",
       "0  30  37\n",
       "1  27  39\n",
       "2  21  31\n",
       "3  27  31\n",
       "4  29  34"
      ]
     },
     "execution_count": 20,
     "metadata": {},
     "output_type": "execute_result"
    }
   ],
   "source": [
    "A = pd.DataFrame([30,27,21,27,29,30,20,20,27,32,35,22,24,23,25,27,23,27,23,\n",
    "                 25,21,18,24,26,33,26,27,28,19,25])\n",
    "\n",
    "B = pd.DataFrame([37,39,31,31,34,38,30,36,29,28,38,28,37,37,30,32,31,31,27,\n",
    "                  32,33,33,33,31,32,33,26,32,33,29])\n",
    "\n",
    "A_B = pd.concat([A,B], axis =1)\n",
    "\n",
    "A_B.columns =[\"A\", \"B\"]\n",
    "\n",
    "A_B.head()"
   ]
  },
  {
   "cell_type": "code",
   "execution_count": 21,
   "id": "af166d82",
   "metadata": {},
   "outputs": [],
   "source": [
    "# Veri tipi 2"
   ]
  },
  {
   "cell_type": "code",
   "execution_count": 22,
   "id": "9610b775",
   "metadata": {},
   "outputs": [
    {
     "name": "stdout",
     "output_type": "stream",
     "text": [
      "   gelir GRUP\n",
      "0     30    A\n",
      "1     27    A\n",
      "2     21    A\n",
      "3     27    A\n",
      "4     29    A\n",
      "    gelir GRUP\n",
      "25     33    B\n",
      "26     26    B\n",
      "27     32    B\n",
      "28     33    B\n",
      "29     29    B\n"
     ]
    }
   ],
   "source": [
    "A = pd.DataFrame([30,27,21,27,29,30,20,20,27,32,35,22,24,23,25,27,23,27,23,\n",
    "                 25,21,18,24,26,33,26,27,28,19,25])\n",
    "\n",
    "B = pd.DataFrame([37,39,31,31,34,38,30,36,29,28,38,28,37,37,30,32,31,31,27,\n",
    "                  32,33,33,33,31,32,33,26,32,33,29])\n",
    "\n",
    "# A ve A'nin grubu\n",
    "GRUP_A = np.arange(len(A))\n",
    "GRUP_A = pd.DataFrame(GRUP_A)\n",
    "GRUP_A[:] = \"A\"\n",
    "A = pd.concat([A, GRUP_A], axis =1)\n",
    "\n",
    "# B ve B'nin grubu\n",
    "GRUP_B= np.arange(len(B))\n",
    "GRUP_B = pd.DataFrame(GRUP_B)\n",
    "GRUP_B[:] = \"B\"\n",
    "B = pd.concat([B, GRUP_B], axis =1)\n",
    "\n",
    "# Tüm veri\n",
    "\n",
    "AB = pd.concat([A,B])\n",
    "AB.columns = [\"gelir\",\"GRUP\"]\n",
    "print(AB.head())\n",
    "print(AB.tail())"
   ]
  },
  {
   "cell_type": "code",
   "execution_count": 23,
   "id": "f14ca7aa",
   "metadata": {},
   "outputs": [
    {
     "data": {
      "image/png": "[encoded data removed]",
      "text/plain": [
       "<Figure size 432x288 with 1 Axes>"
      ]
     },
     "metadata": {
      "needs_background": "light"
     },
     "output_type": "display_data"
    }
   ],
   "source": [
    "import seaborn as sns\n",
    "\n",
    "sns.boxplot(x= \"GRUP\", y =\"gelir\", data =AB);"
   ]
  },
  {
   "cell_type": "markdown",
   "id": "51c69793",
   "metadata": {},
   "source": [
    "**Varsayim Kontrolü**"
   ]
  },
  {
   "cell_type": "code",
   "execution_count": 24,
   "id": "2d218616",
   "metadata": {},
   "outputs": [
    {
     "data": {
      "text/html": [
       "<div>\n",
       "<style scoped>\n",
       "    .dataframe tbody tr th:only-of-type {\n",
       "        vertical-align: middle;\n",
       "    }\n",
       "\n",
       "    .dataframe tbody tr th {\n",
       "        vertical-align: top;\n",
       "    }\n",
       "\n",
       "    .dataframe thead th {\n",
       "        text-align: right;\n",
       "    }\n",
       "</style>\n",
       "<table border=\"1\" class=\"dataframe\">\n",
       "  <thead>\n",
       "    <tr style=\"text-align: right;\">\n",
       "      <th></th>\n",
       "      <th>A</th>\n",
       "      <th>B</th>\n",
       "    </tr>\n",
       "  </thead>\n",
       "  <tbody>\n",
       "    <tr>\n",
       "      <th>0</th>\n",
       "      <td>30</td>\n",
       "      <td>37</td>\n",
       "    </tr>\n",
       "    <tr>\n",
       "      <th>1</th>\n",
       "      <td>27</td>\n",
       "      <td>39</td>\n",
       "    </tr>\n",
       "    <tr>\n",
       "      <th>2</th>\n",
       "      <td>21</td>\n",
       "      <td>31</td>\n",
       "    </tr>\n",
       "    <tr>\n",
       "      <th>3</th>\n",
       "      <td>27</td>\n",
       "      <td>31</td>\n",
       "    </tr>\n",
       "    <tr>\n",
       "      <th>4</th>\n",
       "      <td>29</td>\n",
       "      <td>34</td>\n",
       "    </tr>\n",
       "  </tbody>\n",
       "</table>\n",
       "</div>"
      ],
      "text/plain": [
       "    A   B\n",
       "0  30  37\n",
       "1  27  39\n",
       "2  21  31\n",
       "3  27  31\n",
       "4  29  34"
      ]
     },
     "execution_count": 24,
     "metadata": {},
     "output_type": "execute_result"
    }
   ],
   "source": [
    "A_B.head()"
   ]
  },
  {
   "cell_type": "code",
   "execution_count": 25,
   "id": "440650f2",
   "metadata": {},
   "outputs": [
    {
     "data": {
      "text/html": [
       "<div>\n",
       "<style scoped>\n",
       "    .dataframe tbody tr th:only-of-type {\n",
       "        vertical-align: middle;\n",
       "    }\n",
       "\n",
       "    .dataframe tbody tr th {\n",
       "        vertical-align: top;\n",
       "    }\n",
       "\n",
       "    .dataframe thead th {\n",
       "        text-align: right;\n",
       "    }\n",
       "</style>\n",
       "<table border=\"1\" class=\"dataframe\">\n",
       "  <thead>\n",
       "    <tr style=\"text-align: right;\">\n",
       "      <th></th>\n",
       "      <th>gelir</th>\n",
       "      <th>GRUP</th>\n",
       "    </tr>\n",
       "  </thead>\n",
       "  <tbody>\n",
       "    <tr>\n",
       "      <th>0</th>\n",
       "      <td>30</td>\n",
       "      <td>A</td>\n",
       "    </tr>\n",
       "    <tr>\n",
       "      <th>1</th>\n",
       "      <td>27</td>\n",
       "      <td>A</td>\n",
       "    </tr>\n",
       "    <tr>\n",
       "      <th>2</th>\n",
       "      <td>21</td>\n",
       "      <td>A</td>\n",
       "    </tr>\n",
       "    <tr>\n",
       "      <th>3</th>\n",
       "      <td>27</td>\n",
       "      <td>A</td>\n",
       "    </tr>\n",
       "    <tr>\n",
       "      <th>4</th>\n",
       "      <td>29</td>\n",
       "      <td>A</td>\n",
       "    </tr>\n",
       "  </tbody>\n",
       "</table>\n",
       "</div>"
      ],
      "text/plain": [
       "   gelir GRUP\n",
       "0     30    A\n",
       "1     27    A\n",
       "2     21    A\n",
       "3     27    A\n",
       "4     29    A"
      ]
     },
     "execution_count": 25,
     "metadata": {},
     "output_type": "execute_result"
    }
   ],
   "source": [
    "AB.head()"
   ]
  },
  {
   "cell_type": "code",
   "execution_count": 26,
   "id": "25dfe969",
   "metadata": {},
   "outputs": [],
   "source": [
    "#normallik varsayimi"
   ]
  },
  {
   "cell_type": "code",
   "execution_count": 27,
   "id": "a9e1931d",
   "metadata": {},
   "outputs": [],
   "source": [
    "from scipy.stats import shapiro"
   ]
  },
  {
   "cell_type": "code",
   "execution_count": 28,
   "id": "be465754",
   "metadata": {},
   "outputs": [
    {
     "data": {
      "text/plain": [
       "ShapiroResult(statistic=0.9789242148399353, pvalue=0.7962799668312073)"
      ]
     },
     "execution_count": 28,
     "metadata": {},
     "output_type": "execute_result"
    }
   ],
   "source": [
    "shapiro(A_B.A)"
   ]
  },
  {
   "cell_type": "code",
   "execution_count": 29,
   "id": "3a6a94a4",
   "metadata": {},
   "outputs": [
    {
     "data": {
      "text/plain": [
       "ShapiroResult(statistic=0.9561260342597961, pvalue=0.24584221839904785)"
      ]
     },
     "execution_count": 29,
     "metadata": {},
     "output_type": "execute_result"
    }
   ],
   "source": [
    "shapiro(A_B.B)"
   ]
  },
  {
   "cell_type": "code",
   "execution_count": 30,
   "id": "524d7727",
   "metadata": {},
   "outputs": [],
   "source": [
    "#varyans homojenligi varsayimi"
   ]
  },
  {
   "cell_type": "markdown",
   "id": "929a1e3c",
   "metadata": {},
   "source": [
    "- H0 : Varyanslar homojendir.\n",
    "- H1 : Varyanslar homojen degildir."
   ]
  },
  {
   "cell_type": "code",
   "execution_count": 31,
   "id": "41c3b30b",
   "metadata": {},
   "outputs": [
    {
     "data": {
      "text/plain": [
       "LeveneResult(statistic=1.1101802757158004, pvalue=0.2964124900636569)"
      ]
     },
     "execution_count": 31,
     "metadata": {},
     "output_type": "execute_result"
    }
   ],
   "source": [
    "stats.levene(A_B.A, A_B.B)"
   ]
  },
  {
   "cell_type": "markdown",
   "id": "cc5a368f",
   "metadata": {},
   "source": [
    "- pvalue=0.2964124900636569 > alfa = 0.05 oldugundan H0 reddedilemez.Yani H0 dogru kabul edilip, Varyanslar homojendir diyebilirliz.\n"
   ]
  },
  {
   "cell_type": "markdown",
   "id": "59f0a41d",
   "metadata": {},
   "source": [
    "**Hipotez Testi**"
   ]
  },
  {
   "cell_type": "code",
   "execution_count": 32,
   "id": "5a209c8f",
   "metadata": {},
   "outputs": [
    {
     "data": {
      "text/plain": [
       "Ttest_indResult(statistic=-7.028690967745927, pvalue=2.6233215605475075e-09)"
      ]
     },
     "execution_count": 32,
     "metadata": {},
     "output_type": "execute_result"
    }
   ],
   "source": [
    "stats.ttest_ind(A_B[\"A\"], A_B[\"B\"], equal_var =True)"
   ]
  },
  {
   "cell_type": "code",
   "execution_count": 33,
   "id": "3d7738c0",
   "metadata": {},
   "outputs": [
    {
     "name": "stdout",
     "output_type": "stream",
     "text": [
      "Test istatistigi = -7.0287, p-degeri = 0.0000\n"
     ]
    }
   ],
   "source": [
    "test_istatistigi, pvalue = stats.ttest_ind(A_B[\"A\"], A_B[\"B\"], equal_var =True)\n",
    "print('Test istatistigi = %.4f, p-degeri = %.4f' % (test_istatistigi, pvalue))"
   ]
  },
  {
   "cell_type": "markdown",
   "id": "788a8b64",
   "metadata": {},
   "source": [
    "- Simdi hipotezlermizi hatirlayalim. H0 : mü1 = mü2, H1 : mü1 != mü2 (mü1 : eski sistem, mü2 : yeni sistem)\n",
    "- Eski sistem; kullanicilarin bir ürün önersi almadan ürünlerle karsilasmasini ifade ediyordu.\n",
    "- Yeni sistem; kullanicilarin gelistirilmis olan bir Makine ögrenmesi algoritmasinin tahminlerine göre ürünlerle karsilastirilmasini ifade ediyordu.\n",
    "\n",
    "- H0 hipotezi bu iki degerin birbirine esit oldugunu iddia etti.\n",
    "- Ancak pvalue < alfa oldugundan H0 hipotezini reddettik.\n",
    "- Dolayisiyla eski sistem ile yeni sistem arasinda gelirler göz önünde bulunduruldugunda istatistiki olarak anlamli bir farklilik vardir, ve bu fark yeni sistemin lehinedir."
   ]
  },
  {
   "cell_type": "markdown",
   "id": "2bc95eda",
   "metadata": {},
   "source": [
    "**Nonparametrik Bagimsiz Iki Örneklem T Testi**"
   ]
  },
  {
   "cell_type": "markdown",
   "id": "79131d3e",
   "metadata": {},
   "source": [
    "Diyelim ki hem normallik ve hem de varyans homojenlik testi saglanmiyor.Saglanmadiginda kullanilmasi gereken nonparametrik testin ismi 'mannwhitneyu' testidir."
   ]
  },
  {
   "cell_type": "code",
   "execution_count": 34,
   "id": "3d7c5f7a",
   "metadata": {},
   "outputs": [
    {
     "data": {
      "text/plain": [
       "MannwhitneyuResult(statistic=89.5, pvalue=9.557950378612535e-08)"
      ]
     },
     "execution_count": 34,
     "metadata": {},
     "output_type": "execute_result"
    }
   ],
   "source": [
    "stats.mannwhitneyu(A_B[\"A\"], A_B[\"B\"])"
   ]
  },
  {
   "cell_type": "code",
   "execution_count": 36,
   "id": "39921296",
   "metadata": {},
   "outputs": [
    {
     "name": "stdout",
     "output_type": "stream",
     "text": [
      "Test istatistigi = 89.5000, p-degeri = 0.0000\n"
     ]
    }
   ],
   "source": [
    "test_istatistigi, pvalue = stats.mannwhitneyu(A_B[\"A\"], A_B[\"B\"])\n",
    "print('Test istatistigi = %.4f, p-degeri = %.4f' % (test_istatistigi, pvalue))"
   ]
  },
  {
   "cell_type": "markdown",
   "id": "9edb0b24",
   "metadata": {},
   "source": [
    "Buradaki senaryomuzda hem parametrik hem de nonparametrik yaklasimda iki örneklem testinde anlamli sonuclara yani fark vardir sonucuna ulastik."
   ]
  },
  {
   "cell_type": "markdown",
   "id": "600cbeb0",
   "metadata": {},
   "source": [
    "**Bagimli iki Örneklem T Testi**"
   ]
  },
  {
   "cell_type": "markdown",
   "id": "fd77aeef",
   "metadata": {},
   "source": [
    "- Bagimli iki grup ortalamasi arasinda karsilastirma yapilmak istenildiginde kullanilir.\n",
    "\n",
    "**Hipotezler:**\n",
    "\n",
    "- H0 : mü(önceki) = mü(sonraki),  H1 : mü(önceki) != mü(sonraki)\n",
    "\n",
    "- H0 : mü(önceki) <= mü(sonraki),  H1 : mü(önceki) > mü(sonraki)\n",
    "\n",
    "- H0 : mü(önceki) >= mü(sonraki),  H1 : mü(önceki) < mü(sonraki)\n",
    "\n",
    "**Test Istatistigi**\n",
    "\n",
    "**Varsayimlar:**\n",
    "\n",
    "- Normallik\n",
    "- Varyans Homojenligi"
   ]
  },
  {
   "cell_type": "markdown",
   "id": "5f867d8f",
   "metadata": {},
   "source": [
    "**Is Uygulamasi: Sirket ici Egitimin Performans Etkisi Ölcümü**"
   ]
  },
  {
   "cell_type": "markdown",
   "id": "ec97e18b",
   "metadata": {},
   "source": [
    "**Problem :** Belirli ugraslar sonucunda alinan bir egitimin katma deger saglayip saglamadigi ölcülmek isteniyor.\n",
    "\n",
    "**Detaylar:**\n",
    "\n",
    "- Bir departman bir konuda egitim talep ediyor.\n",
    "- Gerekli/gereksiz degerlendirmeleri neticesinde egitim aliniyor,\n",
    "- Egitimden önce ve sonra olacak sekilde gerekli ölcümler yapiliyor.\n",
    "- Egitim sonrasinda egitimin sagladigi katma deger test edilmek isteniyor."
   ]
  },
  {
   "cell_type": "markdown",
   "id": "8b21c2d8",
   "metadata": {},
   "source": [
    "- H0 : mü(önceki) = mü(sonraki), H1 : mü(önceki) != mü(sonraki)\n",
    "- H0 hipotezi egitim etki göstermemistir.\n",
    "- H1 hipotezi egitim etki göstermistir. Önceki ve sonrasi arasinda fark bulunmaktadir."
   ]
  },
  {
   "cell_type": "code",
   "execution_count": 8,
   "id": "6495faff",
   "metadata": {},
   "outputs": [],
   "source": [
    "import pandas as pd\n",
    "import numpy as np"
   ]
  },
  {
   "cell_type": "code",
   "execution_count": 3,
   "id": "3d8926bb",
   "metadata": {},
   "outputs": [],
   "source": [
    "oncesi = pd.DataFrame([123,119,119,116,123,123,121,120,117,118,121,121,123,119,\n",
    "                       121,118,124,121,125,115,115,119,118,121,117,117,120,120,\n",
    "                      121,117,118,117,123,118,124,121,115,118,125,115])\n",
    "\n",
    "sonrasi = pd.DataFrame([118,127,122,132,129,123,129,132,128,130,128,138,140,130,\n",
    "                       134,134,124,140,134,129,129,138,134,124,122,126,133,127,\n",
    "                       130,130,130,132,117,130,125,129,133,120,127,123])"
   ]
  },
  {
   "cell_type": "code",
   "execution_count": 4,
   "id": "739a851b",
   "metadata": {},
   "outputs": [
    {
     "data": {
      "text/html": [
       "<div>\n",
       "<style scoped>\n",
       "    .dataframe tbody tr th:only-of-type {\n",
       "        vertical-align: middle;\n",
       "    }\n",
       "\n",
       "    .dataframe tbody tr th {\n",
       "        vertical-align: top;\n",
       "    }\n",
       "\n",
       "    .dataframe thead th {\n",
       "        text-align: right;\n",
       "    }\n",
       "</style>\n",
       "<table border=\"1\" class=\"dataframe\">\n",
       "  <thead>\n",
       "    <tr style=\"text-align: right;\">\n",
       "      <th></th>\n",
       "      <th>0</th>\n",
       "    </tr>\n",
       "  </thead>\n",
       "  <tbody>\n",
       "    <tr>\n",
       "      <th>0</th>\n",
       "      <td>123</td>\n",
       "    </tr>\n",
       "    <tr>\n",
       "      <th>1</th>\n",
       "      <td>119</td>\n",
       "    </tr>\n",
       "    <tr>\n",
       "      <th>2</th>\n",
       "      <td>119</td>\n",
       "    </tr>\n",
       "    <tr>\n",
       "      <th>3</th>\n",
       "      <td>116</td>\n",
       "    </tr>\n",
       "    <tr>\n",
       "      <th>4</th>\n",
       "      <td>123</td>\n",
       "    </tr>\n",
       "  </tbody>\n",
       "</table>\n",
       "</div>"
      ],
      "text/plain": [
       "     0\n",
       "0  123\n",
       "1  119\n",
       "2  119\n",
       "3  116\n",
       "4  123"
      ]
     },
     "execution_count": 4,
     "metadata": {},
     "output_type": "execute_result"
    }
   ],
   "source": [
    "oncesi[0:5]"
   ]
  },
  {
   "cell_type": "code",
   "execution_count": 5,
   "id": "215a84d6",
   "metadata": {},
   "outputs": [
    {
     "data": {
      "text/html": [
       "<div>\n",
       "<style scoped>\n",
       "    .dataframe tbody tr th:only-of-type {\n",
       "        vertical-align: middle;\n",
       "    }\n",
       "\n",
       "    .dataframe tbody tr th {\n",
       "        vertical-align: top;\n",
       "    }\n",
       "\n",
       "    .dataframe thead th {\n",
       "        text-align: right;\n",
       "    }\n",
       "</style>\n",
       "<table border=\"1\" class=\"dataframe\">\n",
       "  <thead>\n",
       "    <tr style=\"text-align: right;\">\n",
       "      <th></th>\n",
       "      <th>0</th>\n",
       "    </tr>\n",
       "  </thead>\n",
       "  <tbody>\n",
       "    <tr>\n",
       "      <th>0</th>\n",
       "      <td>118</td>\n",
       "    </tr>\n",
       "    <tr>\n",
       "      <th>1</th>\n",
       "      <td>127</td>\n",
       "    </tr>\n",
       "    <tr>\n",
       "      <th>2</th>\n",
       "      <td>122</td>\n",
       "    </tr>\n",
       "    <tr>\n",
       "      <th>3</th>\n",
       "      <td>132</td>\n",
       "    </tr>\n",
       "    <tr>\n",
       "      <th>4</th>\n",
       "      <td>129</td>\n",
       "    </tr>\n",
       "  </tbody>\n",
       "</table>\n",
       "</div>"
      ],
      "text/plain": [
       "     0\n",
       "0  118\n",
       "1  127\n",
       "2  122\n",
       "3  132\n",
       "4  129"
      ]
     },
     "execution_count": 5,
     "metadata": {},
     "output_type": "execute_result"
    }
   ],
   "source": [
    "sonrasi[0:5]"
   ]
  },
  {
   "cell_type": "code",
   "execution_count": 6,
   "id": "42b53d40",
   "metadata": {},
   "outputs": [
    {
     "name": "stdout",
     "output_type": "stream",
     "text": [
      " 'ayrik' veri seti: \n",
      "\n",
      "     ONCESI  SONRASI\n",
      "0     123      118\n",
      "1     119      127\n",
      "2     119      122\n",
      "3     116      132\n",
      "4     123      129 \n",
      "\n",
      "\n"
     ]
    }
   ],
   "source": [
    "# Birinci veri seti \n",
    "\n",
    "ayrik = pd.concat([oncesi,sonrasi], axis =1)\n",
    "ayrik.columns = [\"ONCESI\" , \"SONRASI\"]\n",
    "print(\" 'ayrik' veri seti: \\n\\n \", ayrik.head(), \"\\n\\n\")"
   ]
  },
  {
   "cell_type": "code",
   "execution_count": 11,
   "id": "0167c763",
   "metadata": {},
   "outputs": [
    {
     "data": {
      "text/html": [
       "<div>\n",
       "<style scoped>\n",
       "    .dataframe tbody tr th:only-of-type {\n",
       "        vertical-align: middle;\n",
       "    }\n",
       "\n",
       "    .dataframe tbody tr th {\n",
       "        vertical-align: top;\n",
       "    }\n",
       "\n",
       "    .dataframe thead th {\n",
       "        text-align: right;\n",
       "    }\n",
       "</style>\n",
       "<table border=\"1\" class=\"dataframe\">\n",
       "  <thead>\n",
       "    <tr style=\"text-align: right;\">\n",
       "      <th></th>\n",
       "      <th>0</th>\n",
       "    </tr>\n",
       "  </thead>\n",
       "  <tbody>\n",
       "    <tr>\n",
       "      <th>0</th>\n",
       "      <td>ONCESI</td>\n",
       "    </tr>\n",
       "    <tr>\n",
       "      <th>1</th>\n",
       "      <td>ONCESI</td>\n",
       "    </tr>\n",
       "    <tr>\n",
       "      <th>2</th>\n",
       "      <td>ONCESI</td>\n",
       "    </tr>\n",
       "    <tr>\n",
       "      <th>3</th>\n",
       "      <td>ONCESI</td>\n",
       "    </tr>\n",
       "    <tr>\n",
       "      <th>4</th>\n",
       "      <td>ONCESI</td>\n",
       "    </tr>\n",
       "  </tbody>\n",
       "</table>\n",
       "</div>"
      ],
      "text/plain": [
       "        0\n",
       "0  ONCESI\n",
       "1  ONCESI\n",
       "2  ONCESI\n",
       "3  ONCESI\n",
       "4  ONCESI"
      ]
     },
     "execution_count": 11,
     "metadata": {},
     "output_type": "execute_result"
    }
   ],
   "source": [
    "# Ikinci veri seti\n",
    "# Öncesi Flag/Tag'ini olusturma\n",
    "\n",
    "grup_oncesi = np.arange(len(oncesi))\n",
    "grup_oncesi = pd.DataFrame(grup_oncesi)\n",
    "grup_oncesi[:] = \"ONCESI\"\n",
    "grup_oncesi.head()"
   ]
  },
  {
   "cell_type": "code",
   "execution_count": 13,
   "id": "ff12ec48",
   "metadata": {},
   "outputs": [
    {
     "data": {
      "text/html": [
       "<div>\n",
       "<style scoped>\n",
       "    .dataframe tbody tr th:only-of-type {\n",
       "        vertical-align: middle;\n",
       "    }\n",
       "\n",
       "    .dataframe tbody tr th {\n",
       "        vertical-align: top;\n",
       "    }\n",
       "\n",
       "    .dataframe thead th {\n",
       "        text-align: right;\n",
       "    }\n",
       "</style>\n",
       "<table border=\"1\" class=\"dataframe\">\n",
       "  <thead>\n",
       "    <tr style=\"text-align: right;\">\n",
       "      <th></th>\n",
       "      <th>0</th>\n",
       "      <th>0</th>\n",
       "    </tr>\n",
       "  </thead>\n",
       "  <tbody>\n",
       "    <tr>\n",
       "      <th>0</th>\n",
       "      <td>123</td>\n",
       "      <td>ONCESI</td>\n",
       "    </tr>\n",
       "    <tr>\n",
       "      <th>1</th>\n",
       "      <td>119</td>\n",
       "      <td>ONCESI</td>\n",
       "    </tr>\n",
       "    <tr>\n",
       "      <th>2</th>\n",
       "      <td>119</td>\n",
       "      <td>ONCESI</td>\n",
       "    </tr>\n",
       "    <tr>\n",
       "      <th>3</th>\n",
       "      <td>116</td>\n",
       "      <td>ONCESI</td>\n",
       "    </tr>\n",
       "    <tr>\n",
       "      <th>4</th>\n",
       "      <td>123</td>\n",
       "      <td>ONCESI</td>\n",
       "    </tr>\n",
       "  </tbody>\n",
       "</table>\n",
       "</div>"
      ],
      "text/plain": [
       "     0       0\n",
       "0  123  ONCESI\n",
       "1  119  ONCESI\n",
       "2  119  ONCESI\n",
       "3  116  ONCESI\n",
       "4  123  ONCESI"
      ]
     },
     "execution_count": 13,
     "metadata": {},
     "output_type": "execute_result"
    }
   ],
   "source": [
    "# Flag ve ONCESI degerlerini bir araya getirme\n",
    "\n",
    "A = pd.concat([oncesi, grup_oncesi], axis = 1)\n",
    "A.head()"
   ]
  },
  {
   "cell_type": "code",
   "execution_count": 15,
   "id": "4dc67d69",
   "metadata": {},
   "outputs": [
    {
     "data": {
      "text/html": [
       "<div>\n",
       "<style scoped>\n",
       "    .dataframe tbody tr th:only-of-type {\n",
       "        vertical-align: middle;\n",
       "    }\n",
       "\n",
       "    .dataframe tbody tr th {\n",
       "        vertical-align: top;\n",
       "    }\n",
       "\n",
       "    .dataframe thead th {\n",
       "        text-align: right;\n",
       "    }\n",
       "</style>\n",
       "<table border=\"1\" class=\"dataframe\">\n",
       "  <thead>\n",
       "    <tr style=\"text-align: right;\">\n",
       "      <th></th>\n",
       "      <th>0</th>\n",
       "    </tr>\n",
       "  </thead>\n",
       "  <tbody>\n",
       "    <tr>\n",
       "      <th>0</th>\n",
       "      <td>SONRASI</td>\n",
       "    </tr>\n",
       "    <tr>\n",
       "      <th>1</th>\n",
       "      <td>SONRASI</td>\n",
       "    </tr>\n",
       "    <tr>\n",
       "      <th>2</th>\n",
       "      <td>SONRASI</td>\n",
       "    </tr>\n",
       "    <tr>\n",
       "      <th>3</th>\n",
       "      <td>SONRASI</td>\n",
       "    </tr>\n",
       "    <tr>\n",
       "      <th>4</th>\n",
       "      <td>SONRASI</td>\n",
       "    </tr>\n",
       "  </tbody>\n",
       "</table>\n",
       "</div>"
      ],
      "text/plain": [
       "         0\n",
       "0  SONRASI\n",
       "1  SONRASI\n",
       "2  SONRASI\n",
       "3  SONRASI\n",
       "4  SONRASI"
      ]
     },
     "execution_count": 15,
     "metadata": {},
     "output_type": "execute_result"
    }
   ],
   "source": [
    "# Sonrasi Flag/Tag'ini olusturma\n",
    "\n",
    "grup_sonrasi = np.arange(len(sonrasi))\n",
    "grup_sonrasi = pd.DataFrame(grup_sonrasi)\n",
    "grup_sonrasi[:] = \"SONRASI\"\n",
    "grup_sonrasi.head()"
   ]
  },
  {
   "cell_type": "code",
   "execution_count": 17,
   "id": "d267f161",
   "metadata": {},
   "outputs": [
    {
     "data": {
      "text/html": [
       "<div>\n",
       "<style scoped>\n",
       "    .dataframe tbody tr th:only-of-type {\n",
       "        vertical-align: middle;\n",
       "    }\n",
       "\n",
       "    .dataframe tbody tr th {\n",
       "        vertical-align: top;\n",
       "    }\n",
       "\n",
       "    .dataframe thead th {\n",
       "        text-align: right;\n",
       "    }\n",
       "</style>\n",
       "<table border=\"1\" class=\"dataframe\">\n",
       "  <thead>\n",
       "    <tr style=\"text-align: right;\">\n",
       "      <th></th>\n",
       "      <th>0</th>\n",
       "      <th>0</th>\n",
       "    </tr>\n",
       "  </thead>\n",
       "  <tbody>\n",
       "    <tr>\n",
       "      <th>0</th>\n",
       "      <td>118</td>\n",
       "      <td>SONRASI</td>\n",
       "    </tr>\n",
       "    <tr>\n",
       "      <th>1</th>\n",
       "      <td>127</td>\n",
       "      <td>SONRASI</td>\n",
       "    </tr>\n",
       "    <tr>\n",
       "      <th>2</th>\n",
       "      <td>122</td>\n",
       "      <td>SONRASI</td>\n",
       "    </tr>\n",
       "    <tr>\n",
       "      <th>3</th>\n",
       "      <td>132</td>\n",
       "      <td>SONRASI</td>\n",
       "    </tr>\n",
       "    <tr>\n",
       "      <th>4</th>\n",
       "      <td>129</td>\n",
       "      <td>SONRASI</td>\n",
       "    </tr>\n",
       "  </tbody>\n",
       "</table>\n",
       "</div>"
      ],
      "text/plain": [
       "     0        0\n",
       "0  118  SONRASI\n",
       "1  127  SONRASI\n",
       "2  122  SONRASI\n",
       "3  132  SONRASI\n",
       "4  129  SONRASI"
      ]
     },
     "execution_count": 17,
     "metadata": {},
     "output_type": "execute_result"
    }
   ],
   "source": [
    "# Flag ve Sonrasi Degerlerini bir araya getirme\n",
    "\n",
    "B = pd.concat([sonrasi, grup_sonrasi], axis =1)\n",
    "B.head()"
   ]
  },
  {
   "cell_type": "code",
   "execution_count": 18,
   "id": "547d5cef",
   "metadata": {},
   "outputs": [
    {
     "data": {
      "text/html": [
       "<div>\n",
       "<style scoped>\n",
       "    .dataframe tbody tr th:only-of-type {\n",
       "        vertical-align: middle;\n",
       "    }\n",
       "\n",
       "    .dataframe tbody tr th {\n",
       "        vertical-align: top;\n",
       "    }\n",
       "\n",
       "    .dataframe thead th {\n",
       "        text-align: right;\n",
       "    }\n",
       "</style>\n",
       "<table border=\"1\" class=\"dataframe\">\n",
       "  <thead>\n",
       "    <tr style=\"text-align: right;\">\n",
       "      <th></th>\n",
       "      <th>0</th>\n",
       "      <th>0</th>\n",
       "    </tr>\n",
       "  </thead>\n",
       "  <tbody>\n",
       "    <tr>\n",
       "      <th>0</th>\n",
       "      <td>123</td>\n",
       "      <td>ONCESI</td>\n",
       "    </tr>\n",
       "    <tr>\n",
       "      <th>1</th>\n",
       "      <td>119</td>\n",
       "      <td>ONCESI</td>\n",
       "    </tr>\n",
       "    <tr>\n",
       "      <th>2</th>\n",
       "      <td>119</td>\n",
       "      <td>ONCESI</td>\n",
       "    </tr>\n",
       "    <tr>\n",
       "      <th>3</th>\n",
       "      <td>116</td>\n",
       "      <td>ONCESI</td>\n",
       "    </tr>\n",
       "    <tr>\n",
       "      <th>4</th>\n",
       "      <td>123</td>\n",
       "      <td>ONCESI</td>\n",
       "    </tr>\n",
       "  </tbody>\n",
       "</table>\n",
       "</div>"
      ],
      "text/plain": [
       "     0       0\n",
       "0  123  ONCESI\n",
       "1  119  ONCESI\n",
       "2  119  ONCESI\n",
       "3  116  ONCESI\n",
       "4  123  ONCESI"
      ]
     },
     "execution_count": 18,
     "metadata": {},
     "output_type": "execute_result"
    }
   ],
   "source": [
    "# Tüm veriyi bir araya getirme\n",
    "\n",
    "birlikte = pd.concat([A,B])\n",
    "birlikte.head()"
   ]
  },
  {
   "cell_type": "code",
   "execution_count": 21,
   "id": "ad1e121d",
   "metadata": {},
   "outputs": [
    {
     "name": "stdout",
     "output_type": "stream",
     "text": [
      "'birlikte' Veri Seti: \n",
      "\n",
      "    PERFORMANS ONCESI_SONRASI\n",
      "0         123         ONCESI\n",
      "1         119         ONCESI\n",
      "2         119         ONCESI\n",
      "3         116         ONCESI\n",
      "4         123         ONCESI \n",
      "\n",
      "     PERFORMANS ONCESI_SONRASI\n",
      "35         129        SONRASI\n",
      "36         133        SONRASI\n",
      "37         120        SONRASI\n",
      "38         127        SONRASI\n",
      "39         123        SONRASI \n",
      "\n"
     ]
    }
   ],
   "source": [
    "# Isimlendirme\n",
    "\n",
    "birlikte.columns = [\"PERFORMANS\", \"ONCESI_SONRASI\"]\n",
    "print(\"'birlikte' Veri Seti: \\n\\n\", birlikte.head(), \"\\n\\n\", birlikte.tail(), \"\\n\")"
   ]
  },
  {
   "cell_type": "code",
   "execution_count": 22,
   "id": "232e0792",
   "metadata": {},
   "outputs": [
    {
     "data": {
      "image/png": "[encoded data removed]",
      "text/plain": [
       "<Figure size 432x288 with 1 Axes>"
      ]
     },
     "metadata": {
      "needs_background": "light"
     },
     "output_type": "display_data"
    }
   ],
   "source": [
    "import seaborn as sns\n",
    "sns.boxplot(x = \"ONCESI_SONRASI\", y =\"PERFORMANS\", data = birlikte);"
   ]
  },
  {
   "cell_type": "markdown",
   "id": "ab41ff61",
   "metadata": {},
   "source": [
    "**Bagimli Iki Örneklem T Testi : Varsayim Kontrolü**"
   ]
  },
  {
   "cell_type": "code",
   "execution_count": 23,
   "id": "762fcc9b",
   "metadata": {},
   "outputs": [],
   "source": [
    "from scipy.stats import shapiro"
   ]
  },
  {
   "cell_type": "code",
   "execution_count": 25,
   "id": "e3917eeb",
   "metadata": {},
   "outputs": [
    {
     "data": {
      "text/plain": [
       "ShapiroResult(statistic=0.9543656706809998, pvalue=0.10722451657056808)"
      ]
     },
     "execution_count": 25,
     "metadata": {},
     "output_type": "execute_result"
    }
   ],
   "source": [
    "shapiro(ayrik.ONCESI)"
   ]
  },
  {
   "cell_type": "code",
   "execution_count": 26,
   "id": "e88f89d9",
   "metadata": {},
   "outputs": [
    {
     "data": {
      "text/plain": [
       "ShapiroResult(statistic=0.9780089259147644, pvalue=0.6159515380859375)"
      ]
     },
     "execution_count": 26,
     "metadata": {},
     "output_type": "execute_result"
    }
   ],
   "source": [
    "shapiro(ayrik.SONRASI)"
   ]
  },
  {
   "cell_type": "code",
   "execution_count": 27,
   "id": "5aff31fe",
   "metadata": {},
   "outputs": [
    {
     "data": {
      "text/plain": [
       "LeveneResult(statistic=8.31303288672351, pvalue=0.0050844511807370246)"
      ]
     },
     "execution_count": 27,
     "metadata": {},
     "output_type": "execute_result"
    }
   ],
   "source": [
    "import scipy.stats as stats\n",
    "stats.levene(ayrik.ONCESI, ayrik.SONRASI)"
   ]
  },
  {
   "cell_type": "markdown",
   "id": "f6a386c5",
   "metadata": {},
   "source": [
    "**Hipotez Testi**"
   ]
  },
  {
   "cell_type": "code",
   "execution_count": 28,
   "id": "69ba2fb7",
   "metadata": {},
   "outputs": [
    {
     "data": {
      "text/plain": [
       "Ttest_relResult(statistic=-9.281533480429937, pvalue=2.0235251764440722e-11)"
      ]
     },
     "execution_count": 28,
     "metadata": {},
     "output_type": "execute_result"
    }
   ],
   "source": [
    "stats.ttest_rel(ayrik.ONCESI, ayrik.SONRASI)"
   ]
  },
  {
   "cell_type": "code",
   "execution_count": 29,
   "id": "47bf258e",
   "metadata": {},
   "outputs": [
    {
     "name": "stdout",
     "output_type": "stream",
     "text": [
      "Test istatistigi = -9.2815, p-degeri = 0.0000\n"
     ]
    }
   ],
   "source": [
    "test_istatistigi, pvalue = stats.ttest_rel(ayrik[\"ONCESI\"], ayrik[\"SONRASI\"])\n",
    "print('Test istatistigi = %.4f, p-degeri = %.4f' % (test_istatistigi, pvalue))"
   ]
  },
  {
   "cell_type": "markdown",
   "id": "d68237a1",
   "metadata": {},
   "source": [
    "- p-degeri = 0.0000 < alfa = 0.005 oldugundan H0 hipotezi reddedilir.\n",
    "- Egitim ise yaramistir."
   ]
  },
  {
   "cell_type": "markdown",
   "id": "5be7d3f2",
   "metadata": {},
   "source": [
    "**Nonparametrik Bagimli Iki Örneklem Testi**"
   ]
  },
  {
   "cell_type": "code",
   "execution_count": 30,
   "id": "e364909d",
   "metadata": {},
   "outputs": [
    {
     "data": {
      "text/plain": [
       "WilcoxonResult(statistic=15.0, pvalue=2.491492033374464e-07)"
      ]
     },
     "execution_count": 30,
     "metadata": {},
     "output_type": "execute_result"
    }
   ],
   "source": [
    "stats.wilcoxon(ayrik.ONCESI, ayrik.SONRASI)"
   ]
  },
  {
   "cell_type": "code",
   "execution_count": 31,
   "id": "cf66f7e4",
   "metadata": {},
   "outputs": [
    {
     "name": "stdout",
     "output_type": "stream",
     "text": [
      "Test istatistigi = 15.0000, p-degeri = 0.0000\n"
     ]
    }
   ],
   "source": [
    "test_istatistigi, pvalue = stats.wilcoxon(ayrik[\"ONCESI\"], ayrik[\"SONRASI\"])\n",
    "print('Test istatistigi = %.4f, p-degeri = %.4f' % (test_istatistigi, pvalue))"
   ]
  },
  {
   "cell_type": "markdown",
   "id": "1b0121c0",
   "metadata": {},
   "source": [
    "- Nonparametrik Bagimli Iki Örneklem Testimizin sonucuna göre de iki grup arasinda anlamli bir farklilik gözlenmektedir. Verilen egitim performanslari olumlu bir bicimde etkilemistir."
   ]
  },
  {
   "cell_type": "markdown",
   "id": "f30d5c31",
   "metadata": {},
   "source": [
    "**Iki Örneklem Oran Testi**"
   ]
  },
  {
   "cell_type": "markdown",
   "id": "b16128a7",
   "metadata": {},
   "source": [
    "- Iki oran arasinda karsilastirma yapmak icin kullanilir.\n",
    "\n",
    "**Hipotezler :**\n",
    "\n",
    "- H0 : P1 = P2, H1 : P1 != P2\n",
    "- H0 : P1 <= P2, H1 : P1 > P2\n",
    "- H0 : P1 >= P2, H1 : P1 < P2\n",
    "\n",
    "**Test Istatistigi**\n",
    "\n",
    "**Varsayimlar:**\n",
    "\n",
    "- n1 > 30\n",
    "- n2 > 30"
   ]
  },
  {
   "cell_type": "markdown",
   "id": "a5a3545b",
   "metadata": {},
   "source": [
    "**Is Uygulamasi: Kullanici Arayüzü Deneyi (AB Testi)**"
   ]
  },
  {
   "cell_type": "markdown",
   "id": "b7368181",
   "metadata": {},
   "source": [
    "**Problem :** Kirmizi Buton mu Yesil Buton mu?"
   ]
  },
  {
   "cell_type": "markdown",
   "id": "a16b3a11",
   "metadata": {},
   "source": [
    "- H0 : P1 <= P2, H1 : P1 > P2\n",
    "\n",
    "- Yesil Buton : 1000 görüntüleme, 300 tiklama\n",
    "- Kirmizi Buton  : 1100 görüntüleme, 250 tiklama"
   ]
  },
  {
   "cell_type": "code",
   "execution_count": 33,
   "id": "b187b990",
   "metadata": {},
   "outputs": [],
   "source": [
    "from statsmodels.stats.proportion import proportions_ztest"
   ]
  },
  {
   "cell_type": "code",
   "execution_count": 34,
   "id": "270e19af",
   "metadata": {},
   "outputs": [],
   "source": [
    "basari_sayisi = np.array([300,250])\n",
    "gözlem_sayilari = np.array([1000,1100])"
   ]
  },
  {
   "cell_type": "code",
   "execution_count": 36,
   "id": "b02378aa",
   "metadata": {},
   "outputs": [
    {
     "data": {
      "text/plain": [
       "(3.7857863233209255, 0.0001532232957772221)"
      ]
     },
     "execution_count": 36,
     "metadata": {},
     "output_type": "execute_result"
    }
   ],
   "source": [
    "proportions_ztest(count = basari_sayisi, nobs = gözlem_sayilari)"
   ]
  },
  {
   "cell_type": "markdown",
   "id": "b79a3b2d",
   "metadata": {},
   "source": [
    " - pvalue = 0.00015 < alfa = 0.05 oldugundan H0 reddedilir.Anlamli iki farklilik vardir. Yesil buton secilmelidir."
   ]
  },
  {
   "cell_type": "markdown",
   "id": "60a1a6b2",
   "metadata": {},
   "source": [
    "**Varyans Analizi**"
   ]
  },
  {
   "cell_type": "markdown",
   "id": "047c0b0a",
   "metadata": {},
   "source": [
    "- Iki ya da daha fazla grup ortalamasi arasinda istatistiksel olarak anlamli farklilik olup olmadigi ögrenilmek istenildiginde kullanilir."
   ]
  },
  {
   "cell_type": "markdown",
   "id": "902c91ae",
   "metadata": {},
   "source": [
    "**Hipotezler: **\n",
    "\n",
    "- H0: mü1 = mü2 = mü3\n",
    "- H1: Esit degillerdir(en az birisi farklidir)\n",
    "\n",
    "**Test Istatistigi**\n",
    "\n",
    "**Varsayimlar:**\n",
    "- Gözlemlerin birbirinden bagimsiz olmasi(gruplarin)\n",
    "- Normal dagilim\n",
    "- Varyans homojenligi"
   ]
  },
  {
   "cell_type": "markdown",
   "id": "40318989",
   "metadata": {},
   "source": [
    "**Is Uygulamasi: Anasayfa Icerik Stratejisi Belirlemek**"
   ]
  },
  {
   "cell_type": "markdown",
   "id": "6bf90452",
   "metadata": {},
   "source": [
    "**Problem :** Anasayfa'da gecirilen süre artirilmak isteniyor.\n",
    "\n",
    "**Detaylar**\n",
    "\n",
    "- Bir web sitesi icin basari kriterleri: ortalama ziyaret süresi, hemen cikis orani vb\n",
    "- Uzun zaman geciren kullanicilarin reklamlara daha fazla tikladigi ve markaya olan bagliliklarinin arttigi biliniyor.\n",
    "- Buna yönelik olarak benzer haberler farkli resimler ya da farkli formatlarda hazirlanarak olusturulan test gruplarina gösteriliyor.\n",
    "- A: Dogal sekilde, B: Yönlendirici, C: Ilgi cekici\n"
   ]
  },
  {
   "cell_type": "code",
   "execution_count": 38,
   "id": "dcf08f0b",
   "metadata": {},
   "outputs": [
    {
     "data": {
      "text/html": [
       "<div>\n",
       "<style scoped>\n",
       "    .dataframe tbody tr th:only-of-type {\n",
       "        vertical-align: middle;\n",
       "    }\n",
       "\n",
       "    .dataframe tbody tr th {\n",
       "        vertical-align: top;\n",
       "    }\n",
       "\n",
       "    .dataframe thead th {\n",
       "        text-align: right;\n",
       "    }\n",
       "</style>\n",
       "<table border=\"1\" class=\"dataframe\">\n",
       "  <thead>\n",
       "    <tr style=\"text-align: right;\">\n",
       "      <th></th>\n",
       "      <th>GRUP_A</th>\n",
       "      <th>GRUP_B</th>\n",
       "      <th>GRUP_C</th>\n",
       "    </tr>\n",
       "  </thead>\n",
       "  <tbody>\n",
       "    <tr>\n",
       "      <th>0</th>\n",
       "      <td>28</td>\n",
       "      <td>31</td>\n",
       "      <td>40</td>\n",
       "    </tr>\n",
       "    <tr>\n",
       "      <th>1</th>\n",
       "      <td>33</td>\n",
       "      <td>32</td>\n",
       "      <td>33</td>\n",
       "    </tr>\n",
       "    <tr>\n",
       "      <th>2</th>\n",
       "      <td>30</td>\n",
       "      <td>30</td>\n",
       "      <td>38</td>\n",
       "    </tr>\n",
       "    <tr>\n",
       "      <th>3</th>\n",
       "      <td>29</td>\n",
       "      <td>30</td>\n",
       "      <td>41</td>\n",
       "    </tr>\n",
       "    <tr>\n",
       "      <th>4</th>\n",
       "      <td>28</td>\n",
       "      <td>33</td>\n",
       "      <td>42</td>\n",
       "    </tr>\n",
       "  </tbody>\n",
       "</table>\n",
       "</div>"
      ],
      "text/plain": [
       "   GRUP_A  GRUP_B  GRUP_C\n",
       "0      28      31      40\n",
       "1      33      32      33\n",
       "2      30      30      38\n",
       "3      29      30      41\n",
       "4      28      33      42"
      ]
     },
     "execution_count": 38,
     "metadata": {},
     "output_type": "execute_result"
    }
   ],
   "source": [
    "A = pd.DataFrame([28,33,30,29,28,29,27,31,30,32,28,33,25,29,27,31,31,30,31,34,30,32,31,30,28,28,29,31,30,27])\n",
    "\n",
    "B = pd.DataFrame([31,32,30,30,33,32,34,27,36,30,31,30,38,29,30,34,34,31,35,35,35,33,30,28,29,32,34,30,29,37])\n",
    "\n",
    "C = pd.DataFrame([40,33,38,41,42,43,38,35,39,39,36,34,35,40,38,36,39,36,33,35,38,35,40,32,36,34,38,39,40,39])\n",
    "\n",
    "dfs = [A,B,C]\n",
    "\n",
    "ABC = pd.concat(dfs, axis = 1)\n",
    "ABC.columns = [\"GRUP_A\",\"GRUP_B\",\"GRUP_C\"]\n",
    "ABC.head()"
   ]
  },
  {
   "cell_type": "markdown",
   "id": "e69a63e6",
   "metadata": {},
   "source": [
    "**Varsayim Kontrolü**"
   ]
  },
  {
   "cell_type": "code",
   "execution_count": 40,
   "id": "623f62f9",
   "metadata": {},
   "outputs": [],
   "source": [
    "from scipy.stats import shapiro"
   ]
  },
  {
   "cell_type": "code",
   "execution_count": 41,
   "id": "228908a7",
   "metadata": {},
   "outputs": [
    {
     "data": {
      "text/plain": [
       "ShapiroResult(statistic=0.9755494594573975, pvalue=0.6989203095436096)"
      ]
     },
     "execution_count": 41,
     "metadata": {},
     "output_type": "execute_result"
    }
   ],
   "source": [
    "shapiro(ABC.GRUP_A)"
   ]
  },
  {
   "cell_type": "code",
   "execution_count": 42,
   "id": "36189864",
   "metadata": {},
   "outputs": [
    {
     "data": {
      "text/plain": [
       "ShapiroResult(statistic=0.9599728584289551, pvalue=0.3092806041240692)"
      ]
     },
     "execution_count": 42,
     "metadata": {},
     "output_type": "execute_result"
    }
   ],
   "source": [
    "shapiro(ABC.GRUP_B)"
   ]
  },
  {
   "cell_type": "code",
   "execution_count": 43,
   "id": "6bd8f0fb",
   "metadata": {},
   "outputs": [
    {
     "data": {
      "text/plain": [
       "ShapiroResult(statistic=0.9668299555778503, pvalue=0.4564647078514099)"
      ]
     },
     "execution_count": 43,
     "metadata": {},
     "output_type": "execute_result"
    }
   ],
   "source": [
    "shapiro(ABC.GRUP_C)"
   ]
  },
  {
   "cell_type": "markdown",
   "id": "d4cdcecd",
   "metadata": {},
   "source": [
    "- Üc grubumuz icin normallik varsayimi saglanmaktadir."
   ]
  },
  {
   "cell_type": "code",
   "execution_count": 45,
   "id": "eb15038d",
   "metadata": {},
   "outputs": [
    {
     "data": {
      "text/plain": [
       "LeveneResult(statistic=2.1497730711043856, pvalue=0.12265989221531134)"
      ]
     },
     "execution_count": 45,
     "metadata": {},
     "output_type": "execute_result"
    }
   ],
   "source": [
    "stats.levene(ABC.GRUP_A,ABC.GRUP_B,ABC.GRUP_C)"
   ]
  },
  {
   "cell_type": "markdown",
   "id": "c09a6fbc",
   "metadata": {},
   "source": [
    "- H0 reddedilemez. Yani varyanslar homojendir."
   ]
  },
  {
   "cell_type": "markdown",
   "id": "1b79a148",
   "metadata": {},
   "source": [
    "**Hipotez Testi**"
   ]
  },
  {
   "cell_type": "code",
   "execution_count": 46,
   "id": "87029627",
   "metadata": {},
   "outputs": [],
   "source": [
    "from scipy.stats import f_oneway"
   ]
  },
  {
   "cell_type": "code",
   "execution_count": 47,
   "id": "c16b6948",
   "metadata": {},
   "outputs": [
    {
     "data": {
      "text/plain": [
       "F_onewayResult(statistic=70.3056429987175, pvalue=6.778873245009364e-19)"
      ]
     },
     "execution_count": 47,
     "metadata": {},
     "output_type": "execute_result"
    }
   ],
   "source": [
    "f_oneway(ABC.GRUP_A,ABC.GRUP_B,ABC.GRUP_C)"
   ]
  },
  {
   "cell_type": "code",
   "execution_count": 48,
   "id": "6d2a83b5",
   "metadata": {},
   "outputs": [
    {
     "name": "stdout",
     "output_type": "stream",
     "text": [
      "0.00000\n"
     ]
    }
   ],
   "source": [
    "print('{:.5f}'.format(f_oneway(ABC.GRUP_A,ABC.GRUP_B,ABC.GRUP_C)[1]))"
   ]
  },
  {
   "cell_type": "markdown",
   "id": "96bf645e",
   "metadata": {},
   "source": [
    "- H0 hipotezi reddedilir. GRuplar arasinda anlamli bir istatistiki farklilik vardir."
   ]
  },
  {
   "cell_type": "code",
   "execution_count": 49,
   "id": "5c33b8cf",
   "metadata": {},
   "outputs": [
    {
     "data": {
      "text/html": [
       "<div>\n",
       "<style scoped>\n",
       "    .dataframe tbody tr th:only-of-type {\n",
       "        vertical-align: middle;\n",
       "    }\n",
       "\n",
       "    .dataframe tbody tr th {\n",
       "        vertical-align: top;\n",
       "    }\n",
       "\n",
       "    .dataframe thead th {\n",
       "        text-align: right;\n",
       "    }\n",
       "</style>\n",
       "<table border=\"1\" class=\"dataframe\">\n",
       "  <thead>\n",
       "    <tr style=\"text-align: right;\">\n",
       "      <th></th>\n",
       "      <th>count</th>\n",
       "      <th>mean</th>\n",
       "      <th>std</th>\n",
       "      <th>min</th>\n",
       "      <th>25%</th>\n",
       "      <th>50%</th>\n",
       "      <th>75%</th>\n",
       "      <th>max</th>\n",
       "    </tr>\n",
       "  </thead>\n",
       "  <tbody>\n",
       "    <tr>\n",
       "      <th>GRUP_A</th>\n",
       "      <td>30.0</td>\n",
       "      <td>29.733333</td>\n",
       "      <td>2.049951</td>\n",
       "      <td>25.0</td>\n",
       "      <td>28.0</td>\n",
       "      <td>30.0</td>\n",
       "      <td>31.0</td>\n",
       "      <td>34.0</td>\n",
       "    </tr>\n",
       "    <tr>\n",
       "      <th>GRUP_B</th>\n",
       "      <td>30.0</td>\n",
       "      <td>31.966667</td>\n",
       "      <td>2.760351</td>\n",
       "      <td>27.0</td>\n",
       "      <td>30.0</td>\n",
       "      <td>31.5</td>\n",
       "      <td>34.0</td>\n",
       "      <td>38.0</td>\n",
       "    </tr>\n",
       "    <tr>\n",
       "      <th>GRUP_C</th>\n",
       "      <td>30.0</td>\n",
       "      <td>37.366667</td>\n",
       "      <td>2.809876</td>\n",
       "      <td>32.0</td>\n",
       "      <td>35.0</td>\n",
       "      <td>38.0</td>\n",
       "      <td>39.0</td>\n",
       "      <td>43.0</td>\n",
       "    </tr>\n",
       "  </tbody>\n",
       "</table>\n",
       "</div>"
      ],
      "text/plain": [
       "        count       mean       std   min   25%   50%   75%   max\n",
       "GRUP_A   30.0  29.733333  2.049951  25.0  28.0  30.0  31.0  34.0\n",
       "GRUP_B   30.0  31.966667  2.760351  27.0  30.0  31.5  34.0  38.0\n",
       "GRUP_C   30.0  37.366667  2.809876  32.0  35.0  38.0  39.0  43.0"
      ]
     },
     "execution_count": 49,
     "metadata": {},
     "output_type": "execute_result"
    }
   ],
   "source": [
    "ABC.describe().T"
   ]
  },
  {
   "cell_type": "markdown",
   "id": "aeb5c5ce",
   "metadata": {},
   "source": [
    "- C grubu daha anlamli oldugundan tercih edilir."
   ]
  },
  {
   "cell_type": "markdown",
   "id": "fb04f0c2",
   "metadata": {},
   "source": [
    "**Nonparametrik Hipotez Testi**\n",
    "\n",
    "- Diyelim ki normallik varsayimi ve varyans homojenlik varsayimi saglanmadiginda kullanilacak kütüphane asagdiadir "
   ]
  },
  {
   "cell_type": "code",
   "execution_count": 50,
   "id": "5ad9c3f0",
   "metadata": {},
   "outputs": [],
   "source": [
    "from scipy.stats import kruskal"
   ]
  },
  {
   "cell_type": "code",
   "execution_count": 51,
   "id": "5abdc2e6",
   "metadata": {},
   "outputs": [
    {
     "data": {
      "text/plain": [
       "KruskalResult(statistic=53.88147190238163, pvalue=1.994284151681347e-12)"
      ]
     },
     "execution_count": 51,
     "metadata": {},
     "output_type": "execute_result"
    }
   ],
   "source": [
    "kruskal(ABC.GRUP_A,ABC.GRUP_B,ABC.GRUP_C)"
   ]
  },
  {
   "cell_type": "code",
   "execution_count": 52,
   "id": "ceae9aff",
   "metadata": {},
   "outputs": [
    {
     "name": "stdout",
     "output_type": "stream",
     "text": [
      "0.00000\n"
     ]
    }
   ],
   "source": [
    "print('{:.5f}'.format(kruskal(ABC.GRUP_A,ABC.GRUP_B,ABC.GRUP_C)[1]))"
   ]
  },
  {
   "cell_type": "markdown",
   "id": "d5fa18ca",
   "metadata": {},
   "source": [
    "- H0 hipotezi reddedilir. Cünkü pvalue degeri < 0.005 dir."
   ]
  },
  {
   "cell_type": "markdown",
   "id": "6778a53b",
   "metadata": {},
   "source": [
    "**Korelasyon Analizi**"
   ]
  },
  {
   "cell_type": "markdown",
   "id": "62af0cc2",
   "metadata": {},
   "source": [
    "- Degiskenler arasindaki iliski, bu iliskinin yönü ve siddeti ile ilgili bilgiler saglayan istatistiksel bir yöntemdir."
   ]
  },
  {
   "cell_type": "markdown",
   "id": "20f2683a",
   "metadata": {},
   "source": [
    "- Mükemmel Pozitif Korelasyon  --> 1\n",
    "- Yüksek Pozitif Korelasyon    --> 0.9\n",
    "- Düsük Pozitif Korelasyon     --> 0.5\n",
    "- Korelasyon Yok               --> 0\n",
    "- Düsük Negatif Korelasyon     --> -0.5\n",
    "- Yüksek Negatif Korelasyon    --> -0.9\n",
    "- Mükemmel Negatif Korelasyon  --> -1"
   ]
  },
  {
   "cell_type": "markdown",
   "id": "d80acdb2",
   "metadata": {},
   "source": [
    "**Hipotezler**\n",
    "\n",
    "- Korelasyon Anlamliliginin Testi H0: P = 0, H1: P != 0\n",
    "\n",
    "**Test Istatistigi**\n",
    "\n",
    "**Varsayimlar**\n",
    "\n",
    "- Iki degisken icinde normallik varsayimi.\n",
    "- Varsayim saglaniyorsa Pearson Korelasyon Katsayisi\n",
    "- Varsayim saglanmiyorsa Spearman Korelasyon Katsayisi\n"
   ]
  },
  {
   "cell_type": "markdown",
   "id": "91c92127",
   "metadata": {},
   "source": [
    "**Is Uygulamasi: Bahsis ile Ödenen Hesap Arasindaki Iliskinin Incelenmesi**"
   ]
  },
  {
   "cell_type": "markdown",
   "id": "66d2bad1",
   "metadata": {},
   "source": [
    "- Bahsis ile ödenen hesap arasinda korelasyon var mi ?\n",
    "- H0 : p = 0, H1 : p != 0"
   ]
  },
  {
   "cell_type": "markdown",
   "id": "eb96faa5",
   "metadata": {},
   "source": [
    "**tips veri seti**\n",
    "\n",
    "- total_bill : yemegin toplam fiyati(bahsis ve vergi dahil)\n",
    "\n",
    "- tip : bahsis\n",
    "\n",
    "- sex : ücreti ödeyen kisinin cinsiyeti (0 = male, 1 = female)\n",
    "\n",
    "- smoker : Grupta sigara icen var mi ? (0 = No, 1 =Yes)\n",
    "\n",
    "- day : Gün (3 = Thur, 4 = Fri, 5 = Sat, 6 = Sun)\n",
    "\n",
    "- time : Ne zaman ? (0 = Day, 1 = Night)\n",
    "\n",
    "- size : Grupta kac kisi vardir ?"
   ]
  },
  {
   "cell_type": "code",
   "execution_count": 1,
   "id": "6436b99c",
   "metadata": {},
   "outputs": [
    {
     "data": {
      "text/html": [
       "<div>\n",
       "<style scoped>\n",
       "    .dataframe tbody tr th:only-of-type {\n",
       "        vertical-align: middle;\n",
       "    }\n",
       "\n",
       "    .dataframe tbody tr th {\n",
       "        vertical-align: top;\n",
       "    }\n",
       "\n",
       "    .dataframe thead th {\n",
       "        text-align: right;\n",
       "    }\n",
       "</style>\n",
       "<table border=\"1\" class=\"dataframe\">\n",
       "  <thead>\n",
       "    <tr style=\"text-align: right;\">\n",
       "      <th></th>\n",
       "      <th>total_bill</th>\n",
       "      <th>tip</th>\n",
       "      <th>sex</th>\n",
       "      <th>smoker</th>\n",
       "      <th>day</th>\n",
       "      <th>time</th>\n",
       "      <th>size</th>\n",
       "    </tr>\n",
       "  </thead>\n",
       "  <tbody>\n",
       "    <tr>\n",
       "      <th>0</th>\n",
       "      <td>16.99</td>\n",
       "      <td>1.01</td>\n",
       "      <td>Female</td>\n",
       "      <td>No</td>\n",
       "      <td>Sun</td>\n",
       "      <td>Dinner</td>\n",
       "      <td>2</td>\n",
       "    </tr>\n",
       "    <tr>\n",
       "      <th>1</th>\n",
       "      <td>10.34</td>\n",
       "      <td>1.66</td>\n",
       "      <td>Male</td>\n",
       "      <td>No</td>\n",
       "      <td>Sun</td>\n",
       "      <td>Dinner</td>\n",
       "      <td>3</td>\n",
       "    </tr>\n",
       "    <tr>\n",
       "      <th>2</th>\n",
       "      <td>21.01</td>\n",
       "      <td>3.50</td>\n",
       "      <td>Male</td>\n",
       "      <td>No</td>\n",
       "      <td>Sun</td>\n",
       "      <td>Dinner</td>\n",
       "      <td>3</td>\n",
       "    </tr>\n",
       "    <tr>\n",
       "      <th>3</th>\n",
       "      <td>23.68</td>\n",
       "      <td>3.31</td>\n",
       "      <td>Male</td>\n",
       "      <td>No</td>\n",
       "      <td>Sun</td>\n",
       "      <td>Dinner</td>\n",
       "      <td>2</td>\n",
       "    </tr>\n",
       "    <tr>\n",
       "      <th>4</th>\n",
       "      <td>24.59</td>\n",
       "      <td>3.61</td>\n",
       "      <td>Female</td>\n",
       "      <td>No</td>\n",
       "      <td>Sun</td>\n",
       "      <td>Dinner</td>\n",
       "      <td>4</td>\n",
       "    </tr>\n",
       "  </tbody>\n",
       "</table>\n",
       "</div>"
      ],
      "text/plain": [
       "   total_bill   tip     sex smoker  day    time  size\n",
       "0       16.99  1.01  Female     No  Sun  Dinner     2\n",
       "1       10.34  1.66    Male     No  Sun  Dinner     3\n",
       "2       21.01  3.50    Male     No  Sun  Dinner     3\n",
       "3       23.68  3.31    Male     No  Sun  Dinner     2\n",
       "4       24.59  3.61  Female     No  Sun  Dinner     4"
      ]
     },
     "execution_count": 1,
     "metadata": {},
     "output_type": "execute_result"
    }
   ],
   "source": [
    "import seaborn as sns\n",
    "tips = sns.load_dataset('tips')\n",
    "df = tips.copy()\n",
    "df.head()"
   ]
  },
  {
   "cell_type": "code",
   "execution_count": 3,
   "id": "7cb4ebab",
   "metadata": {},
   "outputs": [],
   "source": [
    "df[\"total_bill\"] = df[\"total_bill\"] - df[\"tip\"]"
   ]
  },
  {
   "cell_type": "code",
   "execution_count": 4,
   "id": "8d59a772",
   "metadata": {},
   "outputs": [
    {
     "data": {
      "text/html": [
       "<div>\n",
       "<style scoped>\n",
       "    .dataframe tbody tr th:only-of-type {\n",
       "        vertical-align: middle;\n",
       "    }\n",
       "\n",
       "    .dataframe tbody tr th {\n",
       "        vertical-align: top;\n",
       "    }\n",
       "\n",
       "    .dataframe thead th {\n",
       "        text-align: right;\n",
       "    }\n",
       "</style>\n",
       "<table border=\"1\" class=\"dataframe\">\n",
       "  <thead>\n",
       "    <tr style=\"text-align: right;\">\n",
       "      <th></th>\n",
       "      <th>total_bill</th>\n",
       "      <th>tip</th>\n",
       "      <th>sex</th>\n",
       "      <th>smoker</th>\n",
       "      <th>day</th>\n",
       "      <th>time</th>\n",
       "      <th>size</th>\n",
       "    </tr>\n",
       "  </thead>\n",
       "  <tbody>\n",
       "    <tr>\n",
       "      <th>0</th>\n",
       "      <td>15.98</td>\n",
       "      <td>1.01</td>\n",
       "      <td>Female</td>\n",
       "      <td>No</td>\n",
       "      <td>Sun</td>\n",
       "      <td>Dinner</td>\n",
       "      <td>2</td>\n",
       "    </tr>\n",
       "    <tr>\n",
       "      <th>1</th>\n",
       "      <td>8.68</td>\n",
       "      <td>1.66</td>\n",
       "      <td>Male</td>\n",
       "      <td>No</td>\n",
       "      <td>Sun</td>\n",
       "      <td>Dinner</td>\n",
       "      <td>3</td>\n",
       "    </tr>\n",
       "    <tr>\n",
       "      <th>2</th>\n",
       "      <td>17.51</td>\n",
       "      <td>3.50</td>\n",
       "      <td>Male</td>\n",
       "      <td>No</td>\n",
       "      <td>Sun</td>\n",
       "      <td>Dinner</td>\n",
       "      <td>3</td>\n",
       "    </tr>\n",
       "    <tr>\n",
       "      <th>3</th>\n",
       "      <td>20.37</td>\n",
       "      <td>3.31</td>\n",
       "      <td>Male</td>\n",
       "      <td>No</td>\n",
       "      <td>Sun</td>\n",
       "      <td>Dinner</td>\n",
       "      <td>2</td>\n",
       "    </tr>\n",
       "    <tr>\n",
       "      <th>4</th>\n",
       "      <td>20.98</td>\n",
       "      <td>3.61</td>\n",
       "      <td>Female</td>\n",
       "      <td>No</td>\n",
       "      <td>Sun</td>\n",
       "      <td>Dinner</td>\n",
       "      <td>4</td>\n",
       "    </tr>\n",
       "  </tbody>\n",
       "</table>\n",
       "</div>"
      ],
      "text/plain": [
       "   total_bill   tip     sex smoker  day    time  size\n",
       "0       15.98  1.01  Female     No  Sun  Dinner     2\n",
       "1        8.68  1.66    Male     No  Sun  Dinner     3\n",
       "2       17.51  3.50    Male     No  Sun  Dinner     3\n",
       "3       20.37  3.31    Male     No  Sun  Dinner     2\n",
       "4       20.98  3.61  Female     No  Sun  Dinner     4"
      ]
     },
     "execution_count": 4,
     "metadata": {},
     "output_type": "execute_result"
    }
   ],
   "source": [
    "df.head()"
   ]
  },
  {
   "cell_type": "code",
   "execution_count": 5,
   "id": "a0629803",
   "metadata": {},
   "outputs": [
    {
     "data": {
      "image/png": "[encoded data removed]",
      "text/plain": [
       "<Figure size 432x288 with 1 Axes>"
      ]
     },
     "metadata": {
      "needs_background": "light"
     },
     "output_type": "display_data"
    }
   ],
   "source": [
    "df.plot.scatter(\"tip\",\"total_bill\");"
   ]
  },
  {
   "cell_type": "markdown",
   "id": "24ea69c6",
   "metadata": {},
   "source": [
    "**Varsayim Kontrolü**"
   ]
  },
  {
   "cell_type": "code",
   "execution_count": 6,
   "id": "ec246374",
   "metadata": {},
   "outputs": [],
   "source": [
    "from scipy.stats import shapiro"
   ]
  },
  {
   "cell_type": "code",
   "execution_count": 7,
   "id": "6e21f5fb",
   "metadata": {},
   "outputs": [
    {
     "name": "stdout",
     "output_type": "stream",
     "text": [
      "Test istatistigi = 0.8978, p-degeri = 0.0000\n",
      "Test istatistigi = 0.9136, p-degeri = 0.0000\n"
     ]
    }
   ],
   "source": [
    "test_istatistigi, pvalue = shapiro(df[\"tip\"])\n",
    "print('Test istatistigi = %.4f, p-degeri = %.4f' % (test_istatistigi, pvalue))\n",
    "\n",
    "test_istatistigi, pvalue = shapiro(df[\"total_bill\"])\n",
    "print('Test istatistigi = %.4f, p-degeri = %.4f' % (test_istatistigi, pvalue))"
   ]
  },
  {
   "cell_type": "markdown",
   "id": "bf0e0ac7",
   "metadata": {},
   "source": [
    "- H0 reddedilir. Teorik normal dagilim ve örnek normal dagilim arasinda anlamli bir farklilik vardir.\n",
    "\n",
    "- Normallik varsayimi kabul olmuyor."
   ]
  },
  {
   "cell_type": "markdown",
   "id": "3e893e77",
   "metadata": {},
   "source": [
    "**Hipotez Testi**"
   ]
  },
  {
   "cell_type": "markdown",
   "id": "e1284f40",
   "metadata": {},
   "source": [
    "- Korelasyon Katsayisi"
   ]
  },
  {
   "cell_type": "code",
   "execution_count": 8,
   "id": "f788156b",
   "metadata": {},
   "outputs": [
    {
     "data": {
      "text/plain": [
       "0.5766634471096374"
      ]
     },
     "execution_count": 8,
     "metadata": {},
     "output_type": "execute_result"
    }
   ],
   "source": [
    "df[\"tip\"].corr(df[\"total_bill\"])"
   ]
  },
  {
   "cell_type": "code",
   "execution_count": 9,
   "id": "5f58dd1d",
   "metadata": {},
   "outputs": [
    {
     "data": {
      "text/plain": [
       "0.593691939408997"
      ]
     },
     "execution_count": 9,
     "metadata": {},
     "output_type": "execute_result"
    }
   ],
   "source": [
    "df[\"tip\"].corr(df[\"total_bill\"], method = \"spearman\")"
   ]
  },
  {
   "cell_type": "markdown",
   "id": "d8306108",
   "metadata": {},
   "source": [
    "- Korelasyon Anlamliliginin Testi"
   ]
  },
  {
   "cell_type": "code",
   "execution_count": 10,
   "id": "84488b7d",
   "metadata": {},
   "outputs": [],
   "source": [
    "from scipy.stats.stats import pearsonr"
   ]
  },
  {
   "cell_type": "code",
   "execution_count": 11,
   "id": "71343ad1",
   "metadata": {},
   "outputs": [
    {
     "name": "stdout",
     "output_type": "stream",
     "text": [
      "Test istatistigi = 0.5767, p-degeri = 0.0000\n"
     ]
    }
   ],
   "source": [
    "test_istatistigi, pvalue = pearsonr(df[\"tip\"],df[\"total_bill\"])\n",
    "print('Test istatistigi = %.4f, p-degeri = %.4f' % (test_istatistigi, pvalue))\n"
   ]
  },
  {
   "cell_type": "markdown",
   "id": "53adfbbf",
   "metadata": {},
   "source": [
    "- Degiskenler arasinda anlamli bir iliski yoktur diyen H0 hipotezini reddediyoruz. Yani degiskenler anlamli bir korelasyon vardir."
   ]
  },
  {
   "cell_type": "markdown",
   "id": "35750b71",
   "metadata": {},
   "source": [
    "**Nonparametrik Korelasyon Testi**"
   ]
  },
  {
   "cell_type": "code",
   "execution_count": 13,
   "id": "c7d3985a",
   "metadata": {},
   "outputs": [
    {
     "data": {
      "text/plain": [
       "SpearmanrResult(correlation=0.593691939408997, pvalue=1.2452285137560276e-24)"
      ]
     },
     "execution_count": 13,
     "metadata": {},
     "output_type": "execute_result"
    }
   ],
   "source": [
    "from scipy.stats import stats\n",
    "stats.spearmanr(df[\"tip\"],df[\"total_bill\"])"
   ]
  },
  {
   "cell_type": "code",
   "execution_count": 18,
   "id": "768bd710",
   "metadata": {},
   "outputs": [
    {
     "name": "stdout",
     "output_type": "stream",
     "text": [
      "Korelasyon Katsayisi = 0.5937, p-degeri = 0.0000\n"
     ]
    }
   ],
   "source": [
    "test_istatistigi, pvalue = stats.spearmanr(df[\"tip\"],df[\"total_bill\"])\n",
    "print('Korelasyon Katsayisi = %.4f, p-degeri = %.4f' % (test_istatistigi, pvalue))"
   ]
  },
  {
   "cell_type": "code",
   "execution_count": 19,
   "id": "965278ac",
   "metadata": {},
   "outputs": [
    {
     "name": "stdout",
     "output_type": "stream",
     "text": [
      "Korelasyon Katsayisi = 0.4401, p-degeri = 0.0000\n"
     ]
    }
   ],
   "source": [
    "test_istatistigi, pvalue = stats.kendalltau(df[\"tip\"],df[\"total_bill\"])\n",
    "print('Korelasyon Katsayisi = %.4f, p-degeri = %.4f' % (test_istatistigi, pvalue))"
   ]
  }
 ],
 "metadata": {
  "kernelspec": {
   "display_name": "Python 3 (ipykernel)",
   "language": "python",
   "name": "python3"
  },
  "language_info": {
   "codemirror_mode": {
    "name": "ipython",
    "version": 3
   },
   "file_extension": ".py",
   "mimetype": "text/x-python",
   "name": "python",
   "nbconvert_exporter": "python",
   "pygments_lexer": "ipython3",
   "version": "3.9.7"
  }
 },
 "nbformat": 4,
 "nbformat_minor": 5
}
