{
 "cells": [
  {
   "cell_type": "markdown",
   "id": "75f415de",
   "metadata": {},
   "source": [
    "# Olasiliga Giris ve Olasilik Dagilimlari"
   ]
  },
  {
   "cell_type": "markdown",
   "id": "2f7c7078",
   "metadata": {},
   "source": [
    "- Kesikli Olasilik Dagilimlari : Bernoulli, Binom, Poisson\n",
    "\n",
    "- Sürekli Olasilik Dagilimlari : Normal Dagilim, Uniform dagilim, Üstel Dagilim\n"
   ]
  },
  {
   "cell_type": "markdown",
   "id": "525ee3c4",
   "metadata": {},
   "source": [
    "**Bernoulli Dagilim**"
   ]
  },
  {
   "cell_type": "markdown",
   "id": "236d449f",
   "metadata": {},
   "source": [
    "Basarili-basarisiz, olumlu-olumsuz seklindeki iki sonuclu olaylar ile ilgilenildiginde kullanilan kesikli olasilik dagilimidir."
   ]
  },
  {
   "cell_type": "markdown",
   "id": "c81439e2",
   "metadata": {},
   "source": [
    "${\\displaystyle f(k;p)=p^{k}(1-p)^{1-k}\\quad {\\text{for }}k\\in \\{0,1\\}}$\n",
    "\n",
    "${\\displaystyle \\operatorname {E} \\left(X\\right)=p}$\n",
    "\n",
    "$\\operatorname {Var} [X]=pq=p(1-p)$"
   ]
  },
  {
   "cell_type": "code",
   "execution_count": 1,
   "id": "24960840",
   "metadata": {},
   "outputs": [],
   "source": [
    "from scipy.stats import bernoulli"
   ]
  },
  {
   "cell_type": "markdown",
   "id": "94e9fbcd",
   "metadata": {},
   "source": [
    "- 1/n "
   ]
  },
  {
   "cell_type": "code",
   "execution_count": 2,
   "id": "b23b4c23",
   "metadata": {},
   "outputs": [],
   "source": [
    "p = 0.6"
   ]
  },
  {
   "cell_type": "code",
   "execution_count": 4,
   "id": "66005819",
   "metadata": {},
   "outputs": [
    {
     "data": {
      "text/plain": [
       "0.6"
      ]
     },
     "execution_count": 4,
     "metadata": {},
     "output_type": "execute_result"
    }
   ],
   "source": [
    "rv = bernoulli(p)\n",
    "rv.pmf(k = 1)"
   ]
  },
  {
   "cell_type": "code",
   "execution_count": 5,
   "id": "8ed88510",
   "metadata": {},
   "outputs": [
    {
     "data": {
      "text/plain": [
       "0.4"
      ]
     },
     "execution_count": 5,
     "metadata": {},
     "output_type": "execute_result"
    }
   ],
   "source": [
    "rv = bernoulli(p)\n",
    "rv.pmf(k = 0)"
   ]
  },
  {
   "cell_type": "markdown",
   "id": "f8468288",
   "metadata": {},
   "source": [
    "**Büyük Sayilar Yasasi**\n",
    "\n",
    "- Bir rassal degiskenin uzun vadeli kararliligini tanimlayan olasilik teoremidir.\n"
   ]
  },
  {
   "cell_type": "code",
   "execution_count": 6,
   "id": "b99c4e9a",
   "metadata": {},
   "outputs": [
    {
     "name": "stdout",
     "output_type": "stream",
     "text": [
      "Atis sayisi: 2 --- Yazi Olasiligi: 50.00\n",
      "Atis sayisi: 4 --- Yazi Olasiligi: 0.00\n",
      "Atis sayisi: 8 --- Yazi Olasiligi: 62.50\n",
      "Atis sayisi: 16 --- Yazi Olasiligi: 43.75\n",
      "Atis sayisi: 32 --- Yazi Olasiligi: 46.88\n",
      "Atis sayisi: 64 --- Yazi Olasiligi: 56.25\n",
      "Atis sayisi: 128 --- Yazi Olasiligi: 50.78\n",
      "Atis sayisi: 256 --- Yazi Olasiligi: 52.73\n",
      "Atis sayisi: 512 --- Yazi Olasiligi: 52.93\n",
      "Atis sayisi: 1024 --- Yazi Olasiligi: 50.20\n",
      "Atis sayisi: 2048 --- Yazi Olasiligi: 48.58\n",
      "Atis sayisi: 4096 --- Yazi Olasiligi: 49.49\n",
      "Atis sayisi: 8192 --- Yazi Olasiligi: 49.58\n",
      "Atis sayisi: 16384 --- Yazi Olasiligi: 49.96\n",
      "Atis sayisi: 32768 --- Yazi Olasiligi: 50.00\n",
      "Atis sayisi: 65536 --- Yazi Olasiligi: 49.68\n",
      "Atis sayisi: 131072 --- Yazi Olasiligi: 49.97\n",
      "Atis sayisi: 262144 --- Yazi Olasiligi: 50.13\n",
      "Atis sayisi: 524288 --- Yazi Olasiligi: 50.01\n",
      "Atis sayisi: 1048576 --- Yazi Olasiligi: 50.09\n"
     ]
    }
   ],
   "source": [
    "import numpy as np\n",
    "rng = np.random.RandomState(123)\n",
    "for i in np.arange(1,21):\n",
    "    deney_sayisi = 2**i\n",
    "    yazi_turalar = rng.randint(0,2, size = deney_sayisi)\n",
    "    yazi_olasiliklari = np.mean(yazi_turalar)\n",
    "    print(\"Atis sayisi:\", deney_sayisi, \"---\", \"Yazi Olasiligi: %.2f\" %(yazi_olasiliklari * 100))"
   ]
  },
  {
   "cell_type": "markdown",
   "id": "94bffb11",
   "metadata": {},
   "source": [
    "**Binom Dagilimi**\n",
    "\n",
    "- Binom dagilimi, bagimsiz n deneme sonucu k basarili olma olasiligi ile ilgilenildiginde kullanilan dagilimdir."
   ]
  },
  {
   "cell_type": "markdown",
   "id": "4b34af67",
   "metadata": {},
   "source": [
    "**Is Uygulamasi: Reklam Harcamasi Optimizasyonu**"
   ]
  },
  {
   "cell_type": "markdown",
   "id": "c4013729",
   "metadata": {},
   "source": [
    "**Problem** : Cesitli mecralara reklam veriliyor, reklamlarin tiklanma ve geri dönüsüm oranlari optimize edilmeye calisiliyor.Buna yönelik olarak belirli bir mecrada cesitli senaryolara göre reklama tiklama olasiliklari hesaplanmak isteniliyor.\n",
    "\n",
    "**Detaylar** : \n",
    "- Bir mecrada reklam verilecek\n",
    "- Dagilim ve reklama tiklama olasiligi biliniyor.(0.01)\n",
    "\n",
    "**Soru:** Reklami 100 kisi gördügünde 1,5,10 tiklanmasi olasiligi nedir ?"
   ]
  },
  {
   "cell_type": "code",
   "execution_count": 1,
   "id": "e9ec76e1",
   "metadata": {},
   "outputs": [],
   "source": [
    "from scipy.stats import binom"
   ]
  },
  {
   "cell_type": "code",
   "execution_count": 3,
   "id": "94ce44b9",
   "metadata": {},
   "outputs": [
    {
     "name": "stdout",
     "output_type": "stream",
     "text": [
      "0.36972963764972666\n",
      "0.002897787123761478\n",
      "7.006035693977194e-08\n"
     ]
    }
   ],
   "source": [
    "p = 0.01\n",
    "n = 100\n",
    "rv = binom(n,p)\n",
    "\n",
    "print(rv.pmf(1))\n",
    "print(rv.pmf(5))\n",
    "print(rv.pmf(10))"
   ]
  },
  {
   "cell_type": "markdown",
   "id": "f6ba742e",
   "metadata": {},
   "source": [
    "**Poisson Dagilimi**\n",
    "\n",
    "- Belirli bir zaman araliginda belirli bir alanda nadiren rastlanan olaylarin olasiliklarini hesaplamak icin kullanilir.\n",
    "\n",
    "**Örnegin;**\n",
    "\n",
    "- 10 bin kelimeden olusan bir kitapta hatali kelime sayisi\n",
    "- 4000 ögrencili okulda not girisinde hata yapilmasi\n",
    "- Bir is gününde cagri merkezine gelen taktir sayisi\n",
    "- Kredi karti islemlerinde sahtekarlik olmasi \n",
    "- Rötara düsen ucus sefer sayisi\n",
    "\n",
    "**Önemli:**\n",
    "- Rassal denemeler iki sonuclu olmali\n",
    "- Ayni kosullar altinda gerceklestirilmelidir\n",
    "- Rassal denemeler birbirinden bagimsiz olmalidir."
   ]
  },
  {
   "cell_type": "markdown",
   "id": "ee1471a8",
   "metadata": {},
   "source": [
    "**Is Uygulamasi: Ilan Girisi Hata Olasiliklarinin Hesaplanmasi**"
   ]
  },
  {
   "cell_type": "markdown",
   "id": "6f037485",
   "metadata": {},
   "source": [
    "**Problem:** Hatali ilan girisi olasiliklari hesaplanmak isteniyor.\n",
    "\n",
    "**Detaylar:**\n",
    "\n",
    "- Bir yil süresince ölcümler yapiliyor.\n",
    "- Dagilim biliniyor (Poisson) ve Lambda 0.1 (ortalama hata sayisi)\n",
    "- Hic hata olmamasi, 3 hata olmasi ve 5 hata olmasi olasiliklari nedir?"
   ]
  },
  {
   "cell_type": "code",
   "execution_count": 4,
   "id": "0435a7fc",
   "metadata": {},
   "outputs": [],
   "source": [
    "from scipy.stats import poisson"
   ]
  },
  {
   "cell_type": "code",
   "execution_count": 5,
   "id": "a02c2d68",
   "metadata": {},
   "outputs": [],
   "source": [
    "lambda_ = 0.1"
   ]
  },
  {
   "cell_type": "code",
   "execution_count": 7,
   "id": "eb75dbc8",
   "metadata": {},
   "outputs": [
    {
     "name": "stdout",
     "output_type": "stream",
     "text": [
      "0.9048374180359595\n",
      "0.00015080623633932676\n",
      "7.54031181696634e-08\n"
     ]
    }
   ],
   "source": [
    "rv = poisson(mu = lambda_)\n",
    "\n",
    "print(rv.pmf(k = 0))\n",
    "print(rv.pmf(k = 3))\n",
    "print(rv.pmf(k = 5))"
   ]
  },
  {
   "cell_type": "markdown",
   "id": "436ef46c",
   "metadata": {},
   "source": [
    "**Normal Dagilim**\n",
    "\n",
    "- Normal dagildigi bilinen sürekli rassal degiskenler icin olasilik hesaplamasi icin kullanilir."
   ]
  },
  {
   "cell_type": "markdown",
   "id": "251d3c67",
   "metadata": {},
   "source": [
    "**Is Uygulamasi: Ürün Satis Olasiliklarinin Hesaplanmasi**\n"
   ]
  },
  {
   "cell_type": "markdown",
   "id": "05079e46",
   "metadata": {},
   "source": [
    "**Problem:**\n",
    "- Bir yatirim/toplanti öncesinde gelecek ay ile ilgili satislarin belirli degerlerde gerceklesmesi olasiliklari belirlenmek isteniyor.\n",
    "\n",
    "**Detaylar:**\n",
    "\n",
    "- Dagilimin normal oldugu biliniyor.\n",
    "- Aylik ortalama satis sayisi 80K, standart sapmasi 5K\n",
    "- 90K dan fazla satis yapma olasiligi nedir?"
   ]
  },
  {
   "cell_type": "code",
   "execution_count": 1,
   "id": "e44a2d0b",
   "metadata": {},
   "outputs": [],
   "source": [
    "from scipy.stats import norm"
   ]
  },
  {
   "cell_type": "code",
   "execution_count": 4,
   "id": "3fe17ac2",
   "metadata": {},
   "outputs": [
    {
     "data": {
      "text/plain": [
       "0.02275013194817921"
      ]
     },
     "execution_count": 4,
     "metadata": {},
     "output_type": "execute_result"
    }
   ],
   "source": [
    "#90 dan fazla olmasi P(X>90)\n",
    "\n",
    "1 - norm.cdf(90,80,5)"
   ]
  },
  {
   "cell_type": "code",
   "execution_count": 5,
   "id": "32e050b2",
   "metadata": {},
   "outputs": [
    {
     "data": {
      "text/plain": [
       "0.9772498680518208"
      ]
     },
     "execution_count": 5,
     "metadata": {},
     "output_type": "execute_result"
    }
   ],
   "source": [
    "#70 den fazla olmasi P(X>70)\n",
    "1 - norm.cdf(70,80,5)"
   ]
  },
  {
   "cell_type": "code",
   "execution_count": 6,
   "id": "8ba713b0",
   "metadata": {},
   "outputs": [
    {
     "data": {
      "text/plain": [
       "0.08075665923377107"
      ]
     },
     "execution_count": 6,
     "metadata": {},
     "output_type": "execute_result"
    }
   ],
   "source": [
    "#73 den az olmasi P(X<73)\n",
    "norm.cdf(73,80,5)"
   ]
  },
  {
   "cell_type": "code",
   "execution_count": 7,
   "id": "3e9bc455",
   "metadata": {},
   "outputs": [
    {
     "data": {
      "text/plain": [
       "0.13590512198327787"
      ]
     },
     "execution_count": 7,
     "metadata": {},
     "output_type": "execute_result"
    }
   ],
   "source": [
    "#85 ile 90 arasinda olmasi P(85 <X <90)\n",
    "\n",
    "norm.cdf(90,80,5) - norm.cdf(85,80,5)"
   ]
  }
 ],
 "metadata": {
  "kernelspec": {
   "display_name": "Python 3 (ipykernel)",
   "language": "python",
   "name": "python3"
  },
  "language_info": {
   "codemirror_mode": {
    "name": "ipython",
    "version": 3
   },
   "file_extension": ".py",
   "mimetype": "text/x-python",
   "name": "python",
   "nbconvert_exporter": "python",
   "pygments_lexer": "ipython3",
   "version": "3.9.7"
  }
 },
 "nbformat": 4,
 "nbformat_minor": 5
}
